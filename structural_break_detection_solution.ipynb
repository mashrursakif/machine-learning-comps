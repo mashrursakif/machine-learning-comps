{
 "cells": [
  {
   "cell_type": "code",
   "execution_count": null,
   "metadata": {
    "_cell_guid": "b1076dfc-b9ad-4769-8c92-a6c4dae69d19",
    "_uuid": "8f2839f25d086af736a60e9eeb907d3b93b6e0e5",
    "execution": {
     "execution_failed": "2025-05-24T06:18:53.867Z"
    }
   },
   "outputs": [],
   "source": [
    "%pip install crunch-cli --upgrade --quiet --progress-bar off"
   ]
  },
  {
   "cell_type": "code",
   "execution_count": 1,
   "metadata": {
    "_cell_guid": "b1076dfc-b9ad-4769-8c92-a6c4dae69d19",
    "_uuid": "8f2839f25d086af736a60e9eeb907d3b93b6e0e5",
    "execution": {
     "iopub.execute_input": "2025-05-24T06:19:03.245930Z",
     "iopub.status.busy": "2025-05-24T06:19:03.245579Z",
     "iopub.status.idle": "2025-05-24T06:19:16.350227Z",
     "shell.execute_reply": "2025-05-24T06:19:16.349061Z",
     "shell.execute_reply.started": "2025-05-24T06:19:03.245904Z"
    }
   },
   "outputs": [
    {
     "name": "stdout",
     "output_type": "stream",
     "text": [
      "crunch-cli, version 6.5.0\n",
      "delete /kaggle/working/.crunchdao\n",
      "main.py: download from https:crunchdao--competition--production.s3.eu-west-1.amazonaws.com/submissions/21754/main.py (3924 bytes)\n",
      "notebook.ipynb: download from https:crunchdao--competition--production.s3.eu-west-1.amazonaws.com/submissions/21754/notebook.ipynb (19917 bytes)\n",
      "requirements.txt: download from https:crunchdao--competition--production.s3.eu-west-1.amazonaws.com/submissions/21754/requirements.original.txt (178 bytes)\n",
      "data/X_train.parquet: download from https:crunchdao--competition--production.s3.eu-west-1.amazonaws.com/data-releases/146/X_train.parquet (204327238 bytes)\n",
      "data/X_test.reduced.parquet: download from https:crunchdao--competition--production.s3.eu-west-1.amazonaws.com/data-releases/146/X_test.reduced.parquet (2380918 bytes)\n",
      "data/y_train.parquet: download from https:crunchdao--competition--production.s3.eu-west-1.amazonaws.com/data-releases/146/y_train.parquet (61003 bytes)\n",
      "data/y_test.reduced.parquet: download from https:crunchdao--competition--production.s3.eu-west-1.amazonaws.com/data-releases/146/y_test.reduced.parquet (2655 bytes)\n",
      "                                                                                \n",
      "---\n",
      "Success! Your environment has been correctly setup.\n",
      "Next recommended actions:\n",
      "1. Load the Crunch Toolings: `crunch = crunch.load_notebook()`\n",
      "2. Execute the cells with your code\n",
      "3. Run a test: `crunch.test()`\n",
      "4. Download and submit your code to the platform!\n"
     ]
    }
   ],
   "source": [
    "!crunch setup-notebook structural-break aNRPER4ArVgrtxWSud9oHBmu"
   ]
  },
  {
   "cell_type": "code",
   "execution_count": 2,
   "metadata": {
    "execution": {
     "iopub.execute_input": "2025-05-24T06:19:17.819676Z",
     "iopub.status.busy": "2025-05-24T06:19:17.819370Z",
     "iopub.status.idle": "2025-05-24T06:19:19.231632Z",
     "shell.execute_reply": "2025-05-24T06:19:19.230763Z",
     "shell.execute_reply.started": "2025-05-24T06:19:17.819646Z"
    }
   },
   "outputs": [
    {
     "name": "stdout",
     "output_type": "stream",
     "text": [
      "loaded inline runner with module: <module '__main__'>\n",
      "\n",
      "cli version: 6.5.0\n",
      "available ram: 31.35 gb\n",
      "available cpu: 4 core\n",
      "----\n"
     ]
    }
   ],
   "source": [
    "import crunch\n",
    "import os\n",
    "import joblib\n",
    "import scipy\n",
    "import sklearn.metrics\n",
    "\n",
    "crunch = crunch.load_notebook()"
   ]
  },
  {
   "cell_type": "code",
   "execution_count": 3,
   "metadata": {
    "execution": {
     "iopub.execute_input": "2025-05-24T06:19:27.622745Z",
     "iopub.status.busy": "2025-05-24T06:19:27.622286Z",
     "iopub.status.idle": "2025-05-24T06:19:31.630196Z",
     "shell.execute_reply": "2025-05-24T06:19:31.629136Z",
     "shell.execute_reply.started": "2025-05-24T06:19:27.622721Z"
    }
   },
   "outputs": [
    {
     "name": "stdout",
     "output_type": "stream",
     "text": [
      "data/X_train.parquet: download from https:crunchdao--competition--production.s3.eu-west-1.amazonaws.com/data-releases/146/X_train.parquet (204327238 bytes)\n",
      "data/X_train.parquet: already exists, file length match\n",
      "data/X_test.reduced.parquet: download from https:crunchdao--competition--production.s3.eu-west-1.amazonaws.com/data-releases/146/X_test.reduced.parquet (2380918 bytes)\n",
      "data/X_test.reduced.parquet: already exists, file length match\n",
      "data/y_train.parquet: download from https:crunchdao--competition--production.s3.eu-west-1.amazonaws.com/data-releases/146/y_train.parquet (61003 bytes)\n",
      "data/y_train.parquet: already exists, file length match\n",
      "data/y_test.reduced.parquet: download from https:crunchdao--competition--production.s3.eu-west-1.amazonaws.com/data-releases/146/y_test.reduced.parquet (2655 bytes)\n",
      "data/y_test.reduced.parquet: already exists, file length match\n"
     ]
    }
   ],
   "source": [
    "X_train, y_train, X_test = crunch.load_data()"
   ]
  },
  {
   "cell_type": "code",
   "execution_count": 4,
   "metadata": {
    "execution": {
     "iopub.execute_input": "2025-05-24T06:19:31.631960Z",
     "iopub.status.busy": "2025-05-24T06:19:31.631619Z",
     "iopub.status.idle": "2025-05-24T06:19:31.657164Z",
     "shell.execute_reply": "2025-05-24T06:19:31.655983Z",
     "shell.execute_reply.started": "2025-05-24T06:19:31.631926Z"
    }
   },
   "outputs": [
    {
     "data": {
      "text/html": [
       "<div>\n",
       "<style scoped>\n",
       "    .dataframe tbody tr th:only-of-type {\n",
       "        vertical-align: middle;\n",
       "    }\n",
       "\n",
       "    .dataframe tbody tr th {\n",
       "        vertical-align: top;\n",
       "    }\n",
       "\n",
       "    .dataframe thead th {\n",
       "        text-align: right;\n",
       "    }\n",
       "</style>\n",
       "<table border=\"1\" class=\"dataframe\">\n",
       "  <thead>\n",
       "    <tr style=\"text-align: right;\">\n",
       "      <th></th>\n",
       "      <th></th>\n",
       "      <th>value</th>\n",
       "      <th>period</th>\n",
       "    </tr>\n",
       "    <tr>\n",
       "      <th>id</th>\n",
       "      <th>time</th>\n",
       "      <th></th>\n",
       "      <th></th>\n",
       "    </tr>\n",
       "  </thead>\n",
       "  <tbody>\n",
       "    <tr>\n",
       "      <th rowspan=\"5\" valign=\"top\">0</th>\n",
       "      <th>0</th>\n",
       "      <td>-0.005564</td>\n",
       "      <td>0</td>\n",
       "    </tr>\n",
       "    <tr>\n",
       "      <th>1</th>\n",
       "      <td>0.003705</td>\n",
       "      <td>0</td>\n",
       "    </tr>\n",
       "    <tr>\n",
       "      <th>2</th>\n",
       "      <td>0.013164</td>\n",
       "      <td>0</td>\n",
       "    </tr>\n",
       "    <tr>\n",
       "      <th>3</th>\n",
       "      <td>0.007151</td>\n",
       "      <td>0</td>\n",
       "    </tr>\n",
       "    <tr>\n",
       "      <th>4</th>\n",
       "      <td>-0.009979</td>\n",
       "      <td>0</td>\n",
       "    </tr>\n",
       "    <tr>\n",
       "      <th>...</th>\n",
       "      <th>...</th>\n",
       "      <td>...</td>\n",
       "      <td>...</td>\n",
       "    </tr>\n",
       "    <tr>\n",
       "      <th rowspan=\"5\" valign=\"top\">10000</th>\n",
       "      <th>2134</th>\n",
       "      <td>0.001137</td>\n",
       "      <td>1</td>\n",
       "    </tr>\n",
       "    <tr>\n",
       "      <th>2135</th>\n",
       "      <td>0.003526</td>\n",
       "      <td>1</td>\n",
       "    </tr>\n",
       "    <tr>\n",
       "      <th>2136</th>\n",
       "      <td>0.000687</td>\n",
       "      <td>1</td>\n",
       "    </tr>\n",
       "    <tr>\n",
       "      <th>2137</th>\n",
       "      <td>0.001640</td>\n",
       "      <td>1</td>\n",
       "    </tr>\n",
       "    <tr>\n",
       "      <th>2138</th>\n",
       "      <td>0.001074</td>\n",
       "      <td>1</td>\n",
       "    </tr>\n",
       "  </tbody>\n",
       "</table>\n",
       "<p>23715734 rows × 2 columns</p>\n",
       "</div>"
      ],
      "text/plain": [
       "               value  period\n",
       "id    time                  \n",
       "0     0    -0.005564       0\n",
       "      1     0.003705       0\n",
       "      2     0.013164       0\n",
       "      3     0.007151       0\n",
       "      4    -0.009979       0\n",
       "...              ...     ...\n",
       "10000 2134  0.001137       1\n",
       "      2135  0.003526       1\n",
       "      2136  0.000687       1\n",
       "      2137  0.001640       1\n",
       "      2138  0.001074       1\n",
       "\n",
       "[23715734 rows x 2 columns]"
      ]
     },
     "execution_count": 4,
     "metadata": {},
     "output_type": "execute_result"
    }
   ],
   "source": [
    "X_train"
   ]
  },
  {
   "cell_type": "code",
   "execution_count": 5,
   "metadata": {
    "execution": {
     "iopub.execute_input": "2025-05-24T06:19:31.658698Z",
     "iopub.status.busy": "2025-05-24T06:19:31.658367Z",
     "iopub.status.idle": "2025-05-24T06:19:31.680694Z",
     "shell.execute_reply": "2025-05-24T06:19:31.679539Z",
     "shell.execute_reply.started": "2025-05-24T06:19:31.658675Z"
    }
   },
   "outputs": [
    {
     "data": {
      "text/plain": [
       "id\n",
       "0        False\n",
       "1        False\n",
       "2         True\n",
       "3        False\n",
       "4        False\n",
       "         ...  \n",
       "9996     False\n",
       "9997     False\n",
       "9998     False\n",
       "9999     False\n",
       "10000     True\n",
       "Name: structural_breakpoint, Length: 10001, dtype: bool"
      ]
     },
     "execution_count": 5,
     "metadata": {},
     "output_type": "execute_result"
    }
   ],
   "source": [
    "y_train"
   ]
  },
  {
   "cell_type": "code",
   "execution_count": 6,
   "metadata": {
    "execution": {
     "iopub.execute_input": "2025-05-24T06:19:31.682504Z",
     "iopub.status.busy": "2025-05-24T06:19:31.681989Z",
     "iopub.status.idle": "2025-05-24T06:19:32.158467Z",
     "shell.execute_reply": "2025-05-24T06:19:32.157378Z",
     "shell.execute_reply.started": "2025-05-24T06:19:31.682466Z"
    }
   },
   "outputs": [],
   "source": [
    "import pandas as pd\n",
    "import matplotlib.pyplot as plt\n",
    "import seaborn as sns\n",
    "import numpy as np\n",
    "from scipy.stats import skew, kurtosis, linregress\n",
    "from sklearn.model_selection import train_test_split\n",
    "from sklearn.metrics import roc_auc_score"
   ]
  },
  {
   "cell_type": "markdown",
   "metadata": {},
   "source": [
    "# Training"
   ]
  },
  {
   "cell_type": "code",
   "execution_count": 7,
   "metadata": {
    "execution": {
     "iopub.execute_input": "2025-05-24T06:19:32.161474Z",
     "iopub.status.busy": "2025-05-24T06:19:32.161065Z",
     "iopub.status.idle": "2025-05-24T06:19:32.769003Z",
     "shell.execute_reply": "2025-05-24T06:19:32.768137Z",
     "shell.execute_reply.started": "2025-05-24T06:19:32.161451Z"
    }
   },
   "outputs": [],
   "source": [
    "from catboost import CatBoostClassifier, Pool\n",
    "\n",
    "cb_params = {\n",
    "    'iterations': 5000,\n",
    "    'early_stopping_rounds': 500,\n",
    "    'learning_rate': 1e-2,\n",
    "    'loss_function': 'Logloss',\n",
    "    'eval_metric': 'AUC',\n",
    "    # 'depth': 2,\n",
    "    # 'l2_leaf_reg': 4,\n",
    "    # 'bagging_temperature': 2,\n",
    "    # 'random_strength': 1,\n",
    "    # 'border_count': 63,\n",
    "    # 'od_type': 'IncToDec',\n",
    "    'verbose': 100,\n",
    "    # 'subsample': 1.0,\n",
    "    'random_seed': 42,\n",
    "    'task_type': 'CPU',\n",
    "}"
   ]
  },
  {
   "cell_type": "code",
   "execution_count": 48,
   "metadata": {
    "execution": {
     "iopub.execute_input": "2025-05-24T07:02:46.142640Z",
     "iopub.status.busy": "2025-05-24T07:02:46.141815Z",
     "iopub.status.idle": "2025-05-24T07:02:46.154310Z",
     "shell.execute_reply": "2025-05-24T07:02:46.153299Z",
     "shell.execute_reply.started": "2025-05-24T07:02:46.142615Z"
    }
   },
   "outputs": [],
   "source": [
    "def extract_features(group):\n",
    "    features = {}\n",
    "    \n",
    "    before = group[group['period'] == 0]['value']\n",
    "    after = group[group['period'] == 1]['value']\n",
    "\n",
    "    with np.errstate(divide='ignore', invalid='ignore', over='ignore', under='ignore'):\n",
    "\n",
    "\n",
    "        for tag, series in [('before', before), ('after', after)]:\n",
    "            if series.empty: continue\n",
    "                \n",
    "            features[f'mean_{tag}'] = series.mean()\n",
    "            features[f'std_{tag}'] = series.std()\n",
    "            features[f'skew_{tag}'] = skew(series)\n",
    "            features[f'kurtosis_{tag}'] = kurtosis(series)\n",
    "            features[f'min_{tag}'] = series.min()\n",
    "            features[f'max_{tag}'] = series.max()\n",
    "            features[f'iqr_{tag}'] = series.quantile(0.75) - series.quantile(0.25)\n",
    "            features[f'median_{tag}'] = series.median()\n",
    "            features[f'range_{tag}'] = series.max() - series.min()\n",
    "            features[f'var_{tag}'] = series.var()\n",
    "            features[f'cv_{tag}'] = series.std() / (series.mean() + 1e-5)\n",
    "            features[f'slope_{tag}'] = np.polyfit(np.arange(len(series)), series, 1)[0]\n",
    "            features[f'mean_diff_{tag}'] = series.diff().mean()\n",
    "            features[f'std_diff_{tag}'] = series.diff().std()\n",
    "            features[f'spike_count_{tag}'] = np.sum(np.abs(series.diff()) > (2 * series.std()))\n",
    "            features[f'spike_count_{tag}'] = np.sum(np.abs(series.diff()) > (2 * series.std()))\n",
    "            features[f'rolling_mean_diff_{tag}'] = series.rolling(5).mean().diff().mean()\n",
    "    \n",
    "        if not before.empty and not after.empty:\n",
    "            features['delta_mean'] = after.mean() - before.mean()\n",
    "            features['delta_std'] = after.std() - before.std()\n",
    "            features['ratio_mean'] = after.mean() / (before.mean() + 1e-5)\n",
    "            features['delta_median'] = after.median() - before.median()\n",
    "            features['delta_iqr'] = (after.quantile(0.75) - after.quantile(0.25)) - \\\n",
    "                                    (before.quantile(0.75) - before.quantile(0.25))\n",
    "            features['ratio_std'] = after.std() / (before.std() + 1e-5)\n",
    "            features['change_in_slope'] = (\n",
    "                np.polyfit(np.arange(len(after)), after, 1)[0] - \n",
    "                np.polyfit(np.arange(len(before)), before, 1)[0]\n",
    "            )\n",
    "\n",
    "    return pd.Series(features)"
   ]
  },
  {
   "cell_type": "code",
   "execution_count": 49,
   "metadata": {
    "execution": {
     "iopub.execute_input": "2025-05-24T07:02:46.156121Z",
     "iopub.status.busy": "2025-05-24T07:02:46.155801Z",
     "iopub.status.idle": "2025-05-24T07:05:00.377861Z",
     "shell.execute_reply": "2025-05-24T07:05:00.376711Z",
     "shell.execute_reply.started": "2025-05-24T07:02:46.156099Z"
    }
   },
   "outputs": [],
   "source": [
    "feature_df = X_train.groupby(level='id').apply(extract_features)\n",
    "feature_df.reset_index(inplace=True)\n",
    "\n",
    "full_df = pd.concat([feature_df, y_train], axis=1)\n",
    "\n",
    "copy_df = full_df.copy()\n",
    "\n",
    "x = copy_df.drop(columns=['structural_breakpoint'])\n",
    "y = copy_df['structural_breakpoint']\n",
    "x_train_final, x_valid_final, y_train_final, y_valid_final = train_test_split(x, y, random_state=42)\n",
    "\n",
    "\n",
    "train_pool = Pool(x_train_final, y_train_final)\n",
    "valid_pool = Pool(x_valid_final, y_valid_final)"
   ]
  },
  {
   "cell_type": "code",
   "execution_count": 42,
   "metadata": {
    "execution": {
     "iopub.execute_input": "2025-05-24T06:56:24.186818Z",
     "iopub.status.busy": "2025-05-24T06:56:24.186452Z",
     "iopub.status.idle": "2025-05-24T06:57:46.133592Z",
     "shell.execute_reply": "2025-05-24T06:57:46.132820Z",
     "shell.execute_reply.started": "2025-05-24T06:56:24.186791Z"
    }
   },
   "outputs": [
    {
     "name": "stdout",
     "output_type": "stream",
     "text": [
      "0:\ttest: 0.5908020\ttest1: 0.5805100\tbest: 0.5805100 (0)\ttotal: 34.4ms\tremaining: 5m 43s\n",
      "100:\ttest: 0.7870396\ttest1: 0.6535535\tbest: 0.6540156 (98)\ttotal: 2.29s\tremaining: 3m 44s\n",
      "200:\ttest: 0.8268295\ttest1: 0.6649067\tbest: 0.6650655 (199)\ttotal: 4.68s\tremaining: 3m 48s\n",
      "300:\ttest: 0.8525182\ttest1: 0.6691550\tbest: 0.6691550 (300)\ttotal: 7.28s\tremaining: 3m 54s\n",
      "400:\ttest: 0.8746213\ttest1: 0.6710284\tbest: 0.6710337 (364)\ttotal: 9.45s\tremaining: 3m 46s\n",
      "500:\ttest: 0.8956213\ttest1: 0.6723883\tbest: 0.6725547 (458)\ttotal: 11.7s\tremaining: 3m 41s\n",
      "600:\ttest: 0.9116660\ttest1: 0.6744236\tbest: 0.6745279 (597)\ttotal: 13.8s\tremaining: 3m 36s\n",
      "700:\ttest: 0.9257759\ttest1: 0.6752737\tbest: 0.6752737 (700)\ttotal: 16s\tremaining: 3m 32s\n",
      "800:\ttest: 0.9383450\ttest1: 0.6754030\tbest: 0.6756087 (743)\ttotal: 18.2s\tremaining: 3m 29s\n",
      "900:\ttest: 0.9485970\ttest1: 0.6755240\tbest: 0.6757539 (823)\ttotal: 20.4s\tremaining: 3m 26s\n",
      "1000:\ttest: 0.9580596\ttest1: 0.6762819\tbest: 0.6762819 (1000)\ttotal: 22.6s\tremaining: 3m 23s\n",
      "1100:\ttest: 0.9662237\ttest1: 0.6762569\tbest: 0.6766215 (1014)\ttotal: 24.8s\tremaining: 3m 20s\n",
      "1200:\ttest: 0.9732449\ttest1: 0.6760708\tbest: 0.6766215 (1014)\ttotal: 26.9s\tremaining: 3m 17s\n",
      "1300:\ttest: 0.9794715\ttest1: 0.6759619\tbest: 0.6766215 (1014)\ttotal: 29.2s\tremaining: 3m 14s\n",
      "1400:\ttest: 0.9846428\ttest1: 0.6771032\tbest: 0.6772311 (1393)\ttotal: 31.4s\tremaining: 3m 12s\n",
      "1500:\ttest: 0.9882990\ttest1: 0.6776410\tbest: 0.6776523 (1498)\ttotal: 33.6s\tremaining: 3m 10s\n",
      "1600:\ttest: 0.9912735\ttest1: 0.6780282\tbest: 0.6780539 (1591)\ttotal: 35.7s\tremaining: 3m 7s\n",
      "1700:\ttest: 0.9935918\ttest1: 0.6778338\tbest: 0.6780600 (1602)\ttotal: 38.5s\tremaining: 3m 7s\n",
      "1800:\ttest: 0.9952203\ttest1: 0.6782559\tbest: 0.6783050 (1792)\ttotal: 40.8s\tremaining: 3m 5s\n",
      "1900:\ttest: 0.9965478\ttest1: 0.6782423\tbest: 0.6785229 (1826)\ttotal: 43s\tremaining: 3m 2s\n",
      "2000:\ttest: 0.9974459\ttest1: 0.6784563\tbest: 0.6787755 (1976)\ttotal: 45.1s\tremaining: 3m\n",
      "2100:\ttest: 0.9981389\ttest1: 0.6784480\tbest: 0.6788405 (2051)\ttotal: 47.3s\tremaining: 2m 57s\n",
      "2200:\ttest: 0.9987302\ttest1: 0.6789767\tbest: 0.6790031 (2197)\ttotal: 49.4s\tremaining: 2m 55s\n",
      "2300:\ttest: 0.9991713\ttest1: 0.6786567\tbest: 0.6790031 (2197)\ttotal: 51.7s\tremaining: 2m 52s\n",
      "2400:\ttest: 0.9994508\ttest1: 0.6787384\tbest: 0.6790031 (2197)\ttotal: 53.9s\tremaining: 2m 50s\n",
      "2500:\ttest: 0.9996381\ttest1: 0.6791431\tbest: 0.6791431 (2500)\ttotal: 56s\tremaining: 2m 48s\n",
      "2600:\ttest: 0.9997635\ttest1: 0.6791499\tbest: 0.6794047 (2508)\ttotal: 58.2s\tremaining: 2m 45s\n",
      "2700:\ttest: 0.9998603\ttest1: 0.6789691\tbest: 0.6794047 (2508)\ttotal: 1m\tremaining: 2m 43s\n",
      "2800:\ttest: 0.9999146\ttest1: 0.6793170\tbest: 0.6794115 (2798)\ttotal: 1m 2s\tremaining: 2m 41s\n",
      "2900:\ttest: 0.9999438\ttest1: 0.6786242\tbest: 0.6794115 (2798)\ttotal: 1m 4s\tremaining: 2m 38s\n",
      "3000:\ttest: 0.9999674\ttest1: 0.6776750\tbest: 0.6794115 (2798)\ttotal: 1m 7s\tremaining: 2m 36s\n",
      "3100:\ttest: 0.9999777\ttest1: 0.6778467\tbest: 0.6794115 (2798)\ttotal: 1m 9s\tremaining: 2m 34s\n",
      "3200:\ttest: 0.9999870\ttest1: 0.6778278\tbest: 0.6794115 (2798)\ttotal: 1m 12s\tremaining: 2m 33s\n",
      "3300:\ttest: 0.9999925\ttest1: 0.6782097\tbest: 0.6794115 (2798)\ttotal: 1m 14s\tremaining: 2m 30s\n",
      "3400:\ttest: 0.9999961\ttest1: 0.6783345\tbest: 0.6794115 (2798)\ttotal: 1m 16s\tremaining: 2m 28s\n",
      "3500:\ttest: 0.9999982\ttest1: 0.6784525\tbest: 0.6794115 (2798)\ttotal: 1m 18s\tremaining: 2m 26s\n",
      "Stopped by overfitting detector  (800 iterations wait)\n",
      "\n",
      "bestTest = 0.6794115467\n",
      "bestIteration = 2798\n",
      "\n",
      "Shrink model to first 2799 iterations.\n"
     ]
    },
    {
     "data": {
      "text/plain": [
       "<catboost.core.CatBoostClassifier at 0x7c877ea897d0>"
      ]
     },
     "execution_count": 42,
     "metadata": {},
     "output_type": "execute_result"
    }
   ],
   "source": [
    "cb_params = {\n",
    "    'iterations': 10000,\n",
    "    'early_stopping_rounds': 800,\n",
    "    'learning_rate': 1e-2,\n",
    "    'loss_function': 'Logloss',\n",
    "    'eval_metric': 'AUC',\n",
    "    'depth': 8,\n",
    "    # 'l2_leaf_reg': 8,\n",
    "    # 'bagging_temperature': 2,\n",
    "    # 'random_strength': 1,\n",
    "    'border_count': 255,\n",
    "    # 'od_type': 'IncToDec',\n",
    "    'verbose': 100,\n",
    "    # 'subsample': 1.0,\n",
    "    'random_seed': 42,\n",
    "    'task_type': 'CPU',\n",
    "}\n",
    "\n",
    "model = CatBoostClassifier(**cb_params)\n",
    "model.fit(train_pool, eval_set=[train_pool, valid_pool])\n",
    "# model.fit(x, y)"
   ]
  },
  {
   "cell_type": "code",
   "execution_count": 43,
   "metadata": {
    "execution": {
     "iopub.execute_input": "2025-05-24T06:57:46.135225Z",
     "iopub.status.busy": "2025-05-24T06:57:46.134926Z",
     "iopub.status.idle": "2025-05-24T06:57:46.154208Z",
     "shell.execute_reply": "2025-05-24T06:57:46.153300Z",
     "shell.execute_reply.started": "2025-05-24T06:57:46.135204Z"
    }
   },
   "outputs": [
    {
     "data": {
      "text/plain": [
       "0.6794115467055117"
      ]
     },
     "execution_count": 43,
     "metadata": {},
     "output_type": "execute_result"
    }
   ],
   "source": [
    "valid_preds = model.predict_proba(x_valid_final)[:, 1]\n",
    "roc_auc_score(y_valid_final, valid_preds)"
   ]
  },
  {
   "cell_type": "code",
   "execution_count": 44,
   "metadata": {
    "execution": {
     "iopub.execute_input": "2025-05-24T06:58:03.405404Z",
     "iopub.status.busy": "2025-05-24T06:58:03.405100Z",
     "iopub.status.idle": "2025-05-24T06:58:03.841503Z",
     "shell.execute_reply": "2025-05-24T06:58:03.840177Z",
     "shell.execute_reply.started": "2025-05-24T06:58:03.405384Z"
    }
   },
   "outputs": [
    {
     "data": {
      "image/png": "[encoded data removed]",
      "text/plain": [
       "<Figure size 1000x1000 with 1 Axes>"
      ]
     },
     "metadata": {},
     "output_type": "display_data"
    }
   ],
   "source": [
    "importances = model.get_feature_importance()\n",
    "feature_names = x_train_final.columns.tolist()\n",
    "\n",
    "sorted_idx = np.argsort(importances)[::-1]\n",
    "sorted_importances = importances[sorted_idx]\n",
    "sorted_features = [feature_names[i] for i in sorted_idx]\n",
    "\n",
    "plt.figure(figsize=(10, 10))\n",
    "plt.barh(sorted_features[:20], sorted_importances[:20], color='skyblue')\n",
    "plt.xlabel('Importance')\n",
    "plt.ylabel('Feature')\n",
    "plt.title('Feature Importances')\n",
    "plt.gca().invert_yaxis()\n",
    "plt.show()"
   ]
  },
  {
   "cell_type": "markdown",
   "metadata": {},
   "source": [
    "# Crunch Submission"
   ]
  },
  {
   "cell_type": "code",
   "execution_count": 50,
   "metadata": {
    "execution": {
     "iopub.execute_input": "2025-05-24T07:05:57.150994Z",
     "iopub.status.busy": "2025-05-24T07:05:57.150677Z",
     "iopub.status.idle": "2025-05-24T07:05:57.158904Z",
     "shell.execute_reply": "2025-05-24T07:05:57.157681Z",
     "shell.execute_reply.started": "2025-05-24T07:05:57.150975Z"
    }
   },
   "outputs": [],
   "source": [
    "def train(\n",
    "    X_train: pd.DataFrame,\n",
    "    y_train: pd.Series,\n",
    "    model_directory_path: str,\n",
    "):\n",
    "    feature_df = X_train.groupby(level='id').apply(extract_features)\n",
    "    feature_df.reset_index(inplace=True)\n",
    "    \n",
    "    full_df = pd.concat([feature_df, y_train], axis=1)\n",
    "    \n",
    "    copy_df = full_df.copy()\n",
    "    \n",
    "    x = copy_df.drop(columns=['structural_breakpoint'])\n",
    "    y = copy_df['structural_breakpoint']\n",
    "    x_train_final, x_valid_final, y_train_final, y_valid_final = train_test_split(x, y, random_state=42)\n",
    "    \n",
    "    \n",
    "    train_pool = Pool(x_train_final, y_train_final)\n",
    "    valid_pool = Pool(x_valid_final, y_valid_final)\n",
    "\n",
    "    cb_params = {\n",
    "        'iterations': 10000,\n",
    "        'early_stopping_rounds': 800,\n",
    "        'learning_rate': 1e-2,\n",
    "        'loss_function': 'Logloss',\n",
    "        'eval_metric': 'AUC',\n",
    "        'depth': 8,\n",
    "        # 'l2_leaf_reg': 8,\n",
    "        # 'bagging_temperature': 2,\n",
    "        # 'random_strength': 1,\n",
    "        'border_count': 255,\n",
    "        # 'od_type': 'IncToDec',\n",
    "        'verbose': 100,\n",
    "        # 'subsample': 1.0,\n",
    "        'random_seed': 42,\n",
    "        'task_type': 'CPU',\n",
    "    }\n",
    "    \n",
    "    model = CatBoostClassifier(**cb_params)\n",
    "    model.fit(train_pool, eval_set=[train_pool, valid_pool])\n",
    "\n",
    "    joblib.dump(model, os.path.join(model_directory_path, 'model.joblib'))"
   ]
  },
  {
   "cell_type": "code",
   "execution_count": 51,
   "metadata": {
    "execution": {
     "iopub.execute_input": "2025-05-24T07:05:57.731178Z",
     "iopub.status.busy": "2025-05-24T07:05:57.730853Z",
     "iopub.status.idle": "2025-05-24T07:05:57.737249Z",
     "shell.execute_reply": "2025-05-24T07:05:57.736006Z",
     "shell.execute_reply.started": "2025-05-24T07:05:57.731156Z"
    }
   },
   "outputs": [],
   "source": [
    "def infer(\n",
    "    X_test,\n",
    "    model_directory_path,\n",
    "):\n",
    "    model = joblib.load(os.path.join(model_directory_path, 'model.joblib'))\n",
    "\n",
    "    yield\n",
    "\n",
    "    # # X_test can only be iterated once.ok w\n",
    "    # # Before getting the next dataset, you must predict the current one.\n",
    "    for dataset in X_test:\n",
    "        test_feature_df = dataset.groupby(level='id').apply(extract_features)\n",
    "        test_feature_df.reset_index(inplace=True)\n",
    "\n",
    "        prediction = model.predict_proba(test_feature_df)[:, 1]\n",
    "        yield prediction"
   ]
  },
  {
   "cell_type": "code",
   "execution_count": 52,
   "metadata": {
    "execution": {
     "iopub.execute_input": "2025-05-24T07:05:58.235748Z",
     "iopub.status.busy": "2025-05-24T07:05:58.235448Z",
     "iopub.status.idle": "2025-05-24T07:09:40.561151Z",
     "shell.execute_reply": "2025-05-24T07:09:40.560163Z",
     "shell.execute_reply.started": "2025-05-24T07:05:58.235728Z"
    }
   },
   "outputs": [
    {
     "name": "stderr",
     "output_type": "stream",
     "text": [
      "07:05:58 no forbidden library found\n",
      "07:05:58 \n",
      "07:05:59 started\n",
      "07:05:59 running local test\n",
      "07:05:59 internet access isn't restricted, no check will be done\n",
      "07:05:59 \n",
      "07:05:59 starting unstructured loop...\n",
      "07:05:59 executing - command=train\n"
     ]
    },
    {
     "name": "stdout",
     "output_type": "stream",
     "text": [
      "data/X_train.parquet: download from https:crunchdao--competition--production.s3.eu-west-1.amazonaws.com/data-releases/146/X_train.parquet (204327238 bytes)\n",
      "data/X_train.parquet: already exists, file length match\n",
      "data/X_test.reduced.parquet: download from https:crunchdao--competition--production.s3.eu-west-1.amazonaws.com/data-releases/146/X_test.reduced.parquet (2380918 bytes)\n",
      "data/X_test.reduced.parquet: already exists, file length match\n",
      "data/y_train.parquet: download from https:crunchdao--competition--production.s3.eu-west-1.amazonaws.com/data-releases/146/y_train.parquet (61003 bytes)\n",
      "data/y_train.parquet: already exists, file length match\n",
      "data/y_test.reduced.parquet: download from https:crunchdao--competition--production.s3.eu-west-1.amazonaws.com/data-releases/146/y_test.reduced.parquet (2655 bytes)\n",
      "data/y_test.reduced.parquet: already exists, file length match\n",
      "0:\ttest: 0.5908020\ttest1: 0.5805100\tbest: 0.5805100 (0)\ttotal: 33.8ms\tremaining: 5m 38s\n",
      "100:\ttest: 0.7870396\ttest1: 0.6535535\tbest: 0.6540156 (98)\ttotal: 2.27s\tremaining: 3m 42s\n",
      "200:\ttest: 0.8268295\ttest1: 0.6649067\tbest: 0.6650655 (199)\ttotal: 4.46s\tremaining: 3m 37s\n",
      "300:\ttest: 0.8525182\ttest1: 0.6691550\tbest: 0.6691550 (300)\ttotal: 6.67s\tremaining: 3m 34s\n",
      "400:\ttest: 0.8746213\ttest1: 0.6710284\tbest: 0.6710337 (364)\ttotal: 8.87s\tremaining: 3m 32s\n",
      "500:\ttest: 0.8956213\ttest1: 0.6723883\tbest: 0.6725547 (458)\ttotal: 11.1s\tremaining: 3m 31s\n",
      "600:\ttest: 0.9116660\ttest1: 0.6744236\tbest: 0.6745279 (597)\ttotal: 13.4s\tremaining: 3m 29s\n",
      "700:\ttest: 0.9257759\ttest1: 0.6752737\tbest: 0.6752737 (700)\ttotal: 15.6s\tremaining: 3m 26s\n",
      "800:\ttest: 0.9383450\ttest1: 0.6754030\tbest: 0.6756087 (743)\ttotal: 17.8s\tremaining: 3m 23s\n",
      "900:\ttest: 0.9485970\ttest1: 0.6755240\tbest: 0.6757539 (823)\ttotal: 20s\tremaining: 3m 21s\n",
      "1000:\ttest: 0.9580596\ttest1: 0.6762819\tbest: 0.6762819 (1000)\ttotal: 22.3s\tremaining: 3m 20s\n",
      "1100:\ttest: 0.9662237\ttest1: 0.6762569\tbest: 0.6766215 (1014)\ttotal: 24.5s\tremaining: 3m 17s\n",
      "1200:\ttest: 0.9732449\ttest1: 0.6760708\tbest: 0.6766215 (1014)\ttotal: 26.7s\tremaining: 3m 15s\n",
      "1300:\ttest: 0.9794715\ttest1: 0.6759619\tbest: 0.6766215 (1014)\ttotal: 29.4s\tremaining: 3m 16s\n",
      "1400:\ttest: 0.9846428\ttest1: 0.6771032\tbest: 0.6772311 (1393)\ttotal: 31.9s\tremaining: 3m 15s\n",
      "1500:\ttest: 0.9882990\ttest1: 0.6776410\tbest: 0.6776523 (1498)\ttotal: 34.1s\tremaining: 3m 13s\n",
      "1600:\ttest: 0.9912735\ttest1: 0.6780282\tbest: 0.6780539 (1591)\ttotal: 36.3s\tremaining: 3m 10s\n",
      "1700:\ttest: 0.9935918\ttest1: 0.6778338\tbest: 0.6780600 (1602)\ttotal: 38.5s\tremaining: 3m 7s\n",
      "1800:\ttest: 0.9952203\ttest1: 0.6782559\tbest: 0.6783050 (1792)\ttotal: 40.8s\tremaining: 3m 5s\n",
      "1900:\ttest: 0.9965478\ttest1: 0.6782423\tbest: 0.6785229 (1826)\ttotal: 43s\tremaining: 3m 3s\n",
      "2000:\ttest: 0.9974459\ttest1: 0.6784563\tbest: 0.6787755 (1976)\ttotal: 45.3s\tremaining: 3m 1s\n",
      "2100:\ttest: 0.9981389\ttest1: 0.6784480\tbest: 0.6788405 (2051)\ttotal: 47.6s\tremaining: 2m 58s\n",
      "2200:\ttest: 0.9987302\ttest1: 0.6789767\tbest: 0.6790031 (2197)\ttotal: 49.8s\tremaining: 2m 56s\n",
      "2300:\ttest: 0.9991713\ttest1: 0.6786567\tbest: 0.6790031 (2197)\ttotal: 52.1s\tremaining: 2m 54s\n",
      "2400:\ttest: 0.9994508\ttest1: 0.6787384\tbest: 0.6790031 (2197)\ttotal: 54.5s\tremaining: 2m 52s\n",
      "2500:\ttest: 0.9996381\ttest1: 0.6791431\tbest: 0.6791431 (2500)\ttotal: 56.8s\tremaining: 2m 50s\n",
      "2600:\ttest: 0.9997635\ttest1: 0.6791499\tbest: 0.6794047 (2508)\ttotal: 59s\tremaining: 2m 47s\n",
      "2700:\ttest: 0.9998603\ttest1: 0.6789691\tbest: 0.6794047 (2508)\ttotal: 1m 1s\tremaining: 2m 47s\n",
      "2800:\ttest: 0.9999146\ttest1: 0.6793170\tbest: 0.6794115 (2798)\ttotal: 1m 4s\tremaining: 2m 45s\n",
      "2900:\ttest: 0.9999438\ttest1: 0.6786242\tbest: 0.6794115 (2798)\ttotal: 1m 6s\tremaining: 2m 42s\n",
      "3000:\ttest: 0.9999674\ttest1: 0.6776750\tbest: 0.6794115 (2798)\ttotal: 1m 9s\tremaining: 2m 40s\n",
      "3100:\ttest: 0.9999777\ttest1: 0.6778467\tbest: 0.6794115 (2798)\ttotal: 1m 11s\tremaining: 2m 39s\n",
      "3200:\ttest: 0.9999870\ttest1: 0.6778278\tbest: 0.6794115 (2798)\ttotal: 1m 13s\tremaining: 2m 36s\n",
      "3300:\ttest: 0.9999925\ttest1: 0.6782097\tbest: 0.6794115 (2798)\ttotal: 1m 16s\tremaining: 2m 34s\n",
      "3400:\ttest: 0.9999961\ttest1: 0.6783345\tbest: 0.6794115 (2798)\ttotal: 1m 18s\tremaining: 2m 32s\n",
      "3500:\ttest: 0.9999982\ttest1: 0.6784525\tbest: 0.6794115 (2798)\ttotal: 1m 20s\tremaining: 2m 30s\n",
      "Stopped by overfitting detector  (800 iterations wait)\n",
      "\n",
      "bestTest = 0.6794115467\n",
      "bestIteration = 2798\n",
      "\n",
      "Shrink model to first 2799 iterations.\n"
     ]
    },
    {
     "name": "stderr",
     "output_type": "stream",
     "text": [
      "07:09:38 executing - command=infer\n",
      "07:09:39 checking determinism by executing the inference again with 30% of the data (tolerance: 1e-08)\n",
      "07:09:39 executing - command=infer\n",
      "07:09:40 determinism check: passed\n",
      "07:09:40 save prediction - path=data/prediction.parquet\n",
      "07:09:40 ended\n",
      "07:09:40 duration - time=00:03:41\n",
      "07:09:40 memory - before=\"1.31 GB\" after=\"1.33 GB\" consumed=\"14.87 MB\"\n"
     ]
    }
   ],
   "source": [
    "crunch.test()"
   ]
  },
  {
   "cell_type": "code",
   "execution_count": 53,
   "metadata": {
    "execution": {
     "iopub.execute_input": "2025-05-24T07:09:50.071167Z",
     "iopub.status.busy": "2025-05-24T07:09:50.070859Z",
     "iopub.status.idle": "2025-05-24T07:09:50.085205Z",
     "shell.execute_reply": "2025-05-24T07:09:50.084212Z",
     "shell.execute_reply.started": "2025-05-24T07:09:50.071148Z"
    }
   },
   "outputs": [
    {
     "data": {
      "text/html": [
       "<div>\n",
       "<style scoped>\n",
       "    .dataframe tbody tr th:only-of-type {\n",
       "        vertical-align: middle;\n",
       "    }\n",
       "\n",
       "    .dataframe tbody tr th {\n",
       "        vertical-align: top;\n",
       "    }\n",
       "\n",
       "    .dataframe thead th {\n",
       "        text-align: right;\n",
       "    }\n",
       "</style>\n",
       "<table border=\"1\" class=\"dataframe\">\n",
       "  <thead>\n",
       "    <tr style=\"text-align: right;\">\n",
       "      <th></th>\n",
       "      <th>prediction</th>\n",
       "    </tr>\n",
       "    <tr>\n",
       "      <th>id</th>\n",
       "      <th></th>\n",
       "    </tr>\n",
       "  </thead>\n",
       "  <tbody>\n",
       "    <tr>\n",
       "      <th>10001</th>\n",
       "      <td>0.172239</td>\n",
       "    </tr>\n",
       "    <tr>\n",
       "      <th>10002</th>\n",
       "      <td>0.316101</td>\n",
       "    </tr>\n",
       "    <tr>\n",
       "      <th>10003</th>\n",
       "      <td>0.133430</td>\n",
       "    </tr>\n",
       "    <tr>\n",
       "      <th>10004</th>\n",
       "      <td>0.066662</td>\n",
       "    </tr>\n",
       "    <tr>\n",
       "      <th>10005</th>\n",
       "      <td>0.190958</td>\n",
       "    </tr>\n",
       "    <tr>\n",
       "      <th>...</th>\n",
       "      <td>...</td>\n",
       "    </tr>\n",
       "    <tr>\n",
       "      <th>10097</th>\n",
       "      <td>0.237467</td>\n",
       "    </tr>\n",
       "    <tr>\n",
       "      <th>10098</th>\n",
       "      <td>0.142771</td>\n",
       "    </tr>\n",
       "    <tr>\n",
       "      <th>10099</th>\n",
       "      <td>0.356541</td>\n",
       "    </tr>\n",
       "    <tr>\n",
       "      <th>10100</th>\n",
       "      <td>0.251318</td>\n",
       "    </tr>\n",
       "    <tr>\n",
       "      <th>10101</th>\n",
       "      <td>0.103874</td>\n",
       "    </tr>\n",
       "  </tbody>\n",
       "</table>\n",
       "<p>101 rows × 1 columns</p>\n",
       "</div>"
      ],
      "text/plain": [
       "       prediction\n",
       "id               \n",
       "10001    0.172239\n",
       "10002    0.316101\n",
       "10003    0.133430\n",
       "10004    0.066662\n",
       "10005    0.190958\n",
       "...           ...\n",
       "10097    0.237467\n",
       "10098    0.142771\n",
       "10099    0.356541\n",
       "10100    0.251318\n",
       "10101    0.103874\n",
       "\n",
       "[101 rows x 1 columns]"
      ]
     },
     "execution_count": 53,
     "metadata": {},
     "output_type": "execute_result"
    }
   ],
   "source": [
    "prediction = pd.read_parquet(\"data/prediction.parquet\")\n",
    "prediction"
   ]
  },
  {
   "cell_type": "code",
   "execution_count": 54,
   "metadata": {
    "execution": {
     "iopub.execute_input": "2025-05-24T07:09:52.631170Z",
     "iopub.status.busy": "2025-05-24T07:09:52.630843Z",
     "iopub.status.idle": "2025-05-24T07:09:52.647206Z",
     "shell.execute_reply": "2025-05-24T07:09:52.645910Z",
     "shell.execute_reply.started": "2025-05-24T07:09:52.631146Z"
    }
   },
   "outputs": [
    {
     "data": {
      "text/plain": [
       "0.7333333333333334"
      ]
     },
     "execution_count": 54,
     "metadata": {},
     "output_type": "execute_result"
    }
   ],
   "source": [
    "target = pd.read_parquet(\"data/y_test.reduced.parquet\")[\"structural_breakpoint\"]\n",
    "\n",
    "roc_auc_score(target,prediction)"
   ]
  },
  {
   "cell_type": "code",
   "execution_count": null,
   "metadata": {},
   "outputs": [],
   "source": []
  }
 ],
 "metadata": {
  "kaggle": {
   "accelerator": "none",
   "dataSources": [],
   "dockerImageVersionId": 31040,
   "isGpuEnabled": false,
   "isInternetEnabled": true,
   "language": "python",
   "sourceType": "notebook"
  },
  "kernelspec": {
   "display_name": "Python 3 (ipykernel)",
   "language": "python",
   "name": "python3"
  },
  "language_info": {
   "codemirror_mode": {
    "name": "ipython",
    "version": 3
   },
   "file_extension": ".py",
   "mimetype": "text/x-python",
   "name": "python",
   "nbconvert_exporter": "python",
   "pygments_lexer": "ipython3",
   "version": "3.12.4"
  }
 },
 "nbformat": 4,
 "nbformat_minor": 4
}
