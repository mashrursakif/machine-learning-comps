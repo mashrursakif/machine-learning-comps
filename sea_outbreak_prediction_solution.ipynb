{
 "cells": [
  {
   "cell_type": "code",
   "execution_count": 1,
   "metadata": {
    "editable": true,
    "id": "eoOtsnpOmSMO",
    "slideshow": {
     "slide_type": ""
    },
    "tags": []
   },
   "outputs": [],
   "source": [
    "import pandas as pd\n",
    "import numpy as np\n",
    "import os\n",
    "from sklearn.model_selection import train_test_split\n",
    "from sklearn.metrics import mean_absolute_error, mean_squared_error, mean_absolute_percentage_error, accuracy_score\n",
    "from sklearn.preprocessing import LabelEncoder, StandardScaler, MinMaxScaler\n",
    "from sklearn.cluster import KMeans, DBSCAN\n",
    "import matplotlib.pyplot as plt\n",
    "import seaborn as sns\n",
    "from tqdm import tqdm\n",
    "import time\n",
    "import random\n",
    "from catboost import CatBoostClassifier, CatBoostRegressor, Pool, FeaturesData\n",
    "import plotly.express as px\n",
    "from scipy.spatial import cKDTree\n",
    "\n",
    "import warnings\n",
    "import lightgbm as lgb\n",
    "from sklearn.model_selection import KFold"
   ]
  },
  {
   "cell_type": "code",
   "execution_count": 2,
   "metadata": {
    "id": "77s3XlNnm1Ic"
   },
   "outputs": [],
   "source": [
    "train_df = pd.read_csv(\"Train.csv\")\n",
    "test_df = pd.read_csv(\"Test.csv\")\n",
    "toilets_df = pd.read_csv(\"toilets.csv\")\n",
    "waste_management_df = pd.read_csv(\"waste_management.csv\")\n",
    "water_sources_df = pd.read_csv(\"water_sources.csv\")\n",
    "\n",
    "train_df = train_df.rename(columns={'Transformed_Latitude': 'Lat', 'Transformed_Longitude': 'Lon', })\n",
    "test_df = test_df.rename(columns={'Transformed_Latitude': 'Lat', 'Transformed_Longitude': 'Lon', })\n",
    "toilets_df = toilets_df.rename(columns={'Transformed_Latitude': 'Lat', 'Transformed_Longitude': 'Lon', })\n",
    "waste_management_df = waste_management_df.rename(columns={'Transformed_Latitude': 'Lat', 'Transformed_Longitude': 'Lon', })\n",
    "water_sources_df = water_sources_df.rename(columns={'Transformed_Latitude': 'Lat', 'Transformed_Longitude': 'Lon', })"
   ]
  },
  {
   "cell_type": "code",
   "execution_count": 3,
   "metadata": {},
   "outputs": [
    {
     "data": {
      "text/html": [
       "<div>\n",
       "<style scoped>\n",
       "    .dataframe tbody tr th:only-of-type {\n",
       "        vertical-align: middle;\n",
       "    }\n",
       "\n",
       "    .dataframe tbody tr th {\n",
       "        vertical-align: top;\n",
       "    }\n",
       "\n",
       "    .dataframe thead th {\n",
       "        text-align: right;\n",
       "    }\n",
       "</style>\n",
       "<table border=\"1\" class=\"dataframe\">\n",
       "  <thead>\n",
       "    <tr style=\"text-align: right;\">\n",
       "      <th></th>\n",
       "      <th>ID</th>\n",
       "      <th>Total</th>\n",
       "      <th>Location</th>\n",
       "      <th>Category_Health_Facility_UUID</th>\n",
       "      <th>Disease</th>\n",
       "      <th>Month</th>\n",
       "      <th>Year</th>\n",
       "      <th>Lat</th>\n",
       "      <th>Lon</th>\n",
       "    </tr>\n",
       "  </thead>\n",
       "  <tbody>\n",
       "    <tr>\n",
       "      <th>0</th>\n",
       "      <td>ID_3a11929e-3317-476d-99f7-1bd9fb58f018_12_202...</td>\n",
       "      <td>0.0</td>\n",
       "      <td>ID_3a11929e-3317-476d-99f7-1bd9fb58f018</td>\n",
       "      <td>a9280aca-c872-46f5-ada7-4a7cc31cf6ec</td>\n",
       "      <td>Dysentery</td>\n",
       "      <td>12</td>\n",
       "      <td>2022</td>\n",
       "      <td>-8.62982</td>\n",
       "      <td>68.23267</td>\n",
       "    </tr>\n",
       "    <tr>\n",
       "      <th>1</th>\n",
       "      <td>ID_3a11929e-3317-476d-99f7-1bd9fb58f018_12_202...</td>\n",
       "      <td>0.0</td>\n",
       "      <td>ID_3a11929e-3317-476d-99f7-1bd9fb58f018</td>\n",
       "      <td>a9280aca-c872-46f5-ada7-4a7cc31cf6ec</td>\n",
       "      <td>Typhoid</td>\n",
       "      <td>12</td>\n",
       "      <td>2022</td>\n",
       "      <td>-8.62982</td>\n",
       "      <td>68.23267</td>\n",
       "    </tr>\n",
       "    <tr>\n",
       "      <th>2</th>\n",
       "      <td>ID_3a11929e-3317-476d-99f7-1bd9fb58f018_12_202...</td>\n",
       "      <td>0.0</td>\n",
       "      <td>ID_3a11929e-3317-476d-99f7-1bd9fb58f018</td>\n",
       "      <td>a9280aca-c872-46f5-ada7-4a7cc31cf6ec</td>\n",
       "      <td>Diarrhea</td>\n",
       "      <td>12</td>\n",
       "      <td>2022</td>\n",
       "      <td>-8.62982</td>\n",
       "      <td>68.23267</td>\n",
       "    </tr>\n",
       "    <tr>\n",
       "      <th>3</th>\n",
       "      <td>ID_3a11929e-3317-476d-99f7-1bd9fb58f018_12_202...</td>\n",
       "      <td>0.0</td>\n",
       "      <td>ID_3a11929e-3317-476d-99f7-1bd9fb58f018</td>\n",
       "      <td>a9280aca-c872-46f5-ada7-4a7cc31cf6ec</td>\n",
       "      <td>Diarrhea</td>\n",
       "      <td>12</td>\n",
       "      <td>2022</td>\n",
       "      <td>-8.62982</td>\n",
       "      <td>68.23267</td>\n",
       "    </tr>\n",
       "    <tr>\n",
       "      <th>4</th>\n",
       "      <td>ID_3a11929e-3317-476d-99f7-1bd9fb58f018_12_202...</td>\n",
       "      <td>0.0</td>\n",
       "      <td>ID_3a11929e-3317-476d-99f7-1bd9fb58f018</td>\n",
       "      <td>a9280aca-c872-46f5-ada7-4a7cc31cf6ec</td>\n",
       "      <td>Diarrhea</td>\n",
       "      <td>12</td>\n",
       "      <td>2022</td>\n",
       "      <td>-8.62982</td>\n",
       "      <td>68.23267</td>\n",
       "    </tr>\n",
       "    <tr>\n",
       "      <th>...</th>\n",
       "      <td>...</td>\n",
       "      <td>...</td>\n",
       "      <td>...</td>\n",
       "      <td>...</td>\n",
       "      <td>...</td>\n",
       "      <td>...</td>\n",
       "      <td>...</td>\n",
       "      <td>...</td>\n",
       "      <td>...</td>\n",
       "    </tr>\n",
       "    <tr>\n",
       "      <th>23843</th>\n",
       "      <td>ID_776a9566-8bcb-4936-83a9-e8ef57834a9f_12_202...</td>\n",
       "      <td>0.0</td>\n",
       "      <td>ID_776a9566-8bcb-4936-83a9-e8ef57834a9f</td>\n",
       "      <td>a9280aca-c872-46f5-ada7-4a7cc31cf6ec</td>\n",
       "      <td>Malaria</td>\n",
       "      <td>12</td>\n",
       "      <td>2022</td>\n",
       "      <td>-8.63058</td>\n",
       "      <td>68.23478</td>\n",
       "    </tr>\n",
       "    <tr>\n",
       "      <th>23844</th>\n",
       "      <td>ID_776a9566-8bcb-4936-83a9-e8ef57834a9f_12_202...</td>\n",
       "      <td>0.0</td>\n",
       "      <td>ID_776a9566-8bcb-4936-83a9-e8ef57834a9f</td>\n",
       "      <td>a9280aca-c872-46f5-ada7-4a7cc31cf6ec</td>\n",
       "      <td>Malaria</td>\n",
       "      <td>12</td>\n",
       "      <td>2022</td>\n",
       "      <td>-8.63058</td>\n",
       "      <td>68.23478</td>\n",
       "    </tr>\n",
       "    <tr>\n",
       "      <th>23845</th>\n",
       "      <td>ID_776a9566-8bcb-4936-83a9-e8ef57834a9f_12_202...</td>\n",
       "      <td>0.0</td>\n",
       "      <td>ID_776a9566-8bcb-4936-83a9-e8ef57834a9f</td>\n",
       "      <td>a9280aca-c872-46f5-ada7-4a7cc31cf6ec</td>\n",
       "      <td>Malaria</td>\n",
       "      <td>12</td>\n",
       "      <td>2022</td>\n",
       "      <td>-8.63058</td>\n",
       "      <td>68.23478</td>\n",
       "    </tr>\n",
       "    <tr>\n",
       "      <th>23846</th>\n",
       "      <td>ID_776a9566-8bcb-4936-83a9-e8ef57834a9f_12_202...</td>\n",
       "      <td>0.0</td>\n",
       "      <td>ID_776a9566-8bcb-4936-83a9-e8ef57834a9f</td>\n",
       "      <td>a9280aca-c872-46f5-ada7-4a7cc31cf6ec</td>\n",
       "      <td>Malaria</td>\n",
       "      <td>12</td>\n",
       "      <td>2022</td>\n",
       "      <td>-8.63058</td>\n",
       "      <td>68.23478</td>\n",
       "    </tr>\n",
       "    <tr>\n",
       "      <th>23847</th>\n",
       "      <td>ID_776a9566-8bcb-4936-83a9-e8ef57834a9f_12_202...</td>\n",
       "      <td>0.0</td>\n",
       "      <td>ID_776a9566-8bcb-4936-83a9-e8ef57834a9f</td>\n",
       "      <td>a9280aca-c872-46f5-ada7-4a7cc31cf6ec</td>\n",
       "      <td>Intestinal Worms</td>\n",
       "      <td>12</td>\n",
       "      <td>2022</td>\n",
       "      <td>-8.63058</td>\n",
       "      <td>68.23478</td>\n",
       "    </tr>\n",
       "  </tbody>\n",
       "</table>\n",
       "<p>23848 rows × 9 columns</p>\n",
       "</div>"
      ],
      "text/plain": [
       "                                                      ID  Total  \\\n",
       "0      ID_3a11929e-3317-476d-99f7-1bd9fb58f018_12_202...    0.0   \n",
       "1      ID_3a11929e-3317-476d-99f7-1bd9fb58f018_12_202...    0.0   \n",
       "2      ID_3a11929e-3317-476d-99f7-1bd9fb58f018_12_202...    0.0   \n",
       "3      ID_3a11929e-3317-476d-99f7-1bd9fb58f018_12_202...    0.0   \n",
       "4      ID_3a11929e-3317-476d-99f7-1bd9fb58f018_12_202...    0.0   \n",
       "...                                                  ...    ...   \n",
       "23843  ID_776a9566-8bcb-4936-83a9-e8ef57834a9f_12_202...    0.0   \n",
       "23844  ID_776a9566-8bcb-4936-83a9-e8ef57834a9f_12_202...    0.0   \n",
       "23845  ID_776a9566-8bcb-4936-83a9-e8ef57834a9f_12_202...    0.0   \n",
       "23846  ID_776a9566-8bcb-4936-83a9-e8ef57834a9f_12_202...    0.0   \n",
       "23847  ID_776a9566-8bcb-4936-83a9-e8ef57834a9f_12_202...    0.0   \n",
       "\n",
       "                                      Location  \\\n",
       "0      ID_3a11929e-3317-476d-99f7-1bd9fb58f018   \n",
       "1      ID_3a11929e-3317-476d-99f7-1bd9fb58f018   \n",
       "2      ID_3a11929e-3317-476d-99f7-1bd9fb58f018   \n",
       "3      ID_3a11929e-3317-476d-99f7-1bd9fb58f018   \n",
       "4      ID_3a11929e-3317-476d-99f7-1bd9fb58f018   \n",
       "...                                        ...   \n",
       "23843  ID_776a9566-8bcb-4936-83a9-e8ef57834a9f   \n",
       "23844  ID_776a9566-8bcb-4936-83a9-e8ef57834a9f   \n",
       "23845  ID_776a9566-8bcb-4936-83a9-e8ef57834a9f   \n",
       "23846  ID_776a9566-8bcb-4936-83a9-e8ef57834a9f   \n",
       "23847  ID_776a9566-8bcb-4936-83a9-e8ef57834a9f   \n",
       "\n",
       "              Category_Health_Facility_UUID           Disease  Month  Year  \\\n",
       "0      a9280aca-c872-46f5-ada7-4a7cc31cf6ec         Dysentery     12  2022   \n",
       "1      a9280aca-c872-46f5-ada7-4a7cc31cf6ec           Typhoid     12  2022   \n",
       "2      a9280aca-c872-46f5-ada7-4a7cc31cf6ec          Diarrhea     12  2022   \n",
       "3      a9280aca-c872-46f5-ada7-4a7cc31cf6ec          Diarrhea     12  2022   \n",
       "4      a9280aca-c872-46f5-ada7-4a7cc31cf6ec          Diarrhea     12  2022   \n",
       "...                                     ...               ...    ...   ...   \n",
       "23843  a9280aca-c872-46f5-ada7-4a7cc31cf6ec           Malaria     12  2022   \n",
       "23844  a9280aca-c872-46f5-ada7-4a7cc31cf6ec           Malaria     12  2022   \n",
       "23845  a9280aca-c872-46f5-ada7-4a7cc31cf6ec           Malaria     12  2022   \n",
       "23846  a9280aca-c872-46f5-ada7-4a7cc31cf6ec           Malaria     12  2022   \n",
       "23847  a9280aca-c872-46f5-ada7-4a7cc31cf6ec  Intestinal Worms     12  2022   \n",
       "\n",
       "           Lat       Lon  \n",
       "0     -8.62982  68.23267  \n",
       "1     -8.62982  68.23267  \n",
       "2     -8.62982  68.23267  \n",
       "3     -8.62982  68.23267  \n",
       "4     -8.62982  68.23267  \n",
       "...        ...       ...  \n",
       "23843 -8.63058  68.23478  \n",
       "23844 -8.63058  68.23478  \n",
       "23845 -8.63058  68.23478  \n",
       "23846 -8.63058  68.23478  \n",
       "23847 -8.63058  68.23478  \n",
       "\n",
       "[23848 rows x 9 columns]"
      ]
     },
     "execution_count": 3,
     "metadata": {},
     "output_type": "execute_result"
    }
   ],
   "source": [
    "train_df"
   ]
  },
  {
   "cell_type": "code",
   "execution_count": 4,
   "metadata": {},
   "outputs": [
    {
     "data": {
      "text/plain": [
       "['Location', 'Disease']"
      ]
     },
     "execution_count": 4,
     "metadata": {},
     "output_type": "execute_result"
    }
   ],
   "source": [
    "cat_cols = train_df.drop(columns=['ID', 'Category_Health_Facility_UUID']).select_dtypes(include=['category', 'object']).columns.tolist()\n",
    "cat_cols"
   ]
  },
  {
   "cell_type": "code",
   "execution_count": 5,
   "metadata": {},
   "outputs": [
    {
     "data": {
      "text/plain": [
       "0"
      ]
     },
     "execution_count": 5,
     "metadata": {},
     "output_type": "execute_result"
    }
   ],
   "source": [
    "train_df = train_df.dropna(subset=['Total'])\n",
    "train_df['Total'].isna().sum()"
   ]
  },
  {
   "cell_type": "code",
   "execution_count": 6,
   "metadata": {},
   "outputs": [],
   "source": [
    "# no_total = train_df.drop(columns=['Total'])\n",
    "train_df = train_df.sort_values(by='Total', ascending=False)"
   ]
  },
  {
   "cell_type": "code",
   "execution_count": 7,
   "metadata": {},
   "outputs": [
    {
     "data": {
      "text/html": [
       "<div>\n",
       "<style scoped>\n",
       "    .dataframe tbody tr th:only-of-type {\n",
       "        vertical-align: middle;\n",
       "    }\n",
       "\n",
       "    .dataframe tbody tr th {\n",
       "        vertical-align: top;\n",
       "    }\n",
       "\n",
       "    .dataframe thead th {\n",
       "        text-align: right;\n",
       "    }\n",
       "</style>\n",
       "<table border=\"1\" class=\"dataframe\">\n",
       "  <thead>\n",
       "    <tr style=\"text-align: right;\">\n",
       "      <th></th>\n",
       "      <th>ID</th>\n",
       "      <th>Total</th>\n",
       "      <th>Location</th>\n",
       "      <th>Category_Health_Facility_UUID</th>\n",
       "      <th>Disease</th>\n",
       "      <th>Month</th>\n",
       "      <th>Year</th>\n",
       "      <th>Lat</th>\n",
       "      <th>Lon</th>\n",
       "    </tr>\n",
       "  </thead>\n",
       "  <tbody>\n",
       "    <tr>\n",
       "      <th>919</th>\n",
       "      <td>ID_90ae3848-6fe9-4326-95ee-d7b8679e7494_12_201...</td>\n",
       "      <td>489.0</td>\n",
       "      <td>ID_90ae3848-6fe9-4326-95ee-d7b8679e7494</td>\n",
       "      <td>b7f0a600-e19e-4c65-acb3-e28584dae35b</td>\n",
       "      <td>Malaria</td>\n",
       "      <td>12</td>\n",
       "      <td>2019</td>\n",
       "      <td>-8.62893</td>\n",
       "      <td>68.23959</td>\n",
       "    </tr>\n",
       "    <tr>\n",
       "      <th>9847</th>\n",
       "      <td>ID_361566e9-3fa1-4c0e-9778-84d5dc605feb_1_2019...</td>\n",
       "      <td>481.0</td>\n",
       "      <td>ID_361566e9-3fa1-4c0e-9778-84d5dc605feb</td>\n",
       "      <td>b7f0a600-e19e-4c65-acb3-e28584dae35b</td>\n",
       "      <td>Diarrhea</td>\n",
       "      <td>1</td>\n",
       "      <td>2019</td>\n",
       "      <td>-8.62369</td>\n",
       "      <td>68.24270</td>\n",
       "    </tr>\n",
       "    <tr>\n",
       "      <th>9891</th>\n",
       "      <td>ID_361566e9-3fa1-4c0e-9778-84d5dc605feb_5_2019...</td>\n",
       "      <td>472.0</td>\n",
       "      <td>ID_361566e9-3fa1-4c0e-9778-84d5dc605feb</td>\n",
       "      <td>b7f0a600-e19e-4c65-acb3-e28584dae35b</td>\n",
       "      <td>Diarrhea</td>\n",
       "      <td>5</td>\n",
       "      <td>2019</td>\n",
       "      <td>-8.62369</td>\n",
       "      <td>68.24270</td>\n",
       "    </tr>\n",
       "    <tr>\n",
       "      <th>9858</th>\n",
       "      <td>ID_361566e9-3fa1-4c0e-9778-84d5dc605feb_2_2019...</td>\n",
       "      <td>471.0</td>\n",
       "      <td>ID_361566e9-3fa1-4c0e-9778-84d5dc605feb</td>\n",
       "      <td>b7f0a600-e19e-4c65-acb3-e28584dae35b</td>\n",
       "      <td>Diarrhea</td>\n",
       "      <td>2</td>\n",
       "      <td>2019</td>\n",
       "      <td>-8.62369</td>\n",
       "      <td>68.24270</td>\n",
       "    </tr>\n",
       "    <tr>\n",
       "      <th>9859</th>\n",
       "      <td>ID_361566e9-3fa1-4c0e-9778-84d5dc605feb_2_2019...</td>\n",
       "      <td>470.0</td>\n",
       "      <td>ID_361566e9-3fa1-4c0e-9778-84d5dc605feb</td>\n",
       "      <td>b7f0a600-e19e-4c65-acb3-e28584dae35b</td>\n",
       "      <td>Diarrhea</td>\n",
       "      <td>2</td>\n",
       "      <td>2019</td>\n",
       "      <td>-8.62369</td>\n",
       "      <td>68.24270</td>\n",
       "    </tr>\n",
       "    <tr>\n",
       "      <th>...</th>\n",
       "      <td>...</td>\n",
       "      <td>...</td>\n",
       "      <td>...</td>\n",
       "      <td>...</td>\n",
       "      <td>...</td>\n",
       "      <td>...</td>\n",
       "      <td>...</td>\n",
       "      <td>...</td>\n",
       "      <td>...</td>\n",
       "    </tr>\n",
       "    <tr>\n",
       "      <th>9171</th>\n",
       "      <td>ID_777b4bae-d725-4a1a-9f4a-31b42ebc3e10_11_202...</td>\n",
       "      <td>0.0</td>\n",
       "      <td>ID_777b4bae-d725-4a1a-9f4a-31b42ebc3e10</td>\n",
       "      <td>a9280aca-c872-46f5-ada7-4a7cc31cf6ec</td>\n",
       "      <td>Malaria</td>\n",
       "      <td>11</td>\n",
       "      <td>2021</td>\n",
       "      <td>-8.68267</td>\n",
       "      <td>68.22165</td>\n",
       "    </tr>\n",
       "    <tr>\n",
       "      <th>9169</th>\n",
       "      <td>ID_777b4bae-d725-4a1a-9f4a-31b42ebc3e10_11_202...</td>\n",
       "      <td>0.0</td>\n",
       "      <td>ID_777b4bae-d725-4a1a-9f4a-31b42ebc3e10</td>\n",
       "      <td>a9280aca-c872-46f5-ada7-4a7cc31cf6ec</td>\n",
       "      <td>Malaria</td>\n",
       "      <td>11</td>\n",
       "      <td>2021</td>\n",
       "      <td>-8.68267</td>\n",
       "      <td>68.22165</td>\n",
       "    </tr>\n",
       "    <tr>\n",
       "      <th>9167</th>\n",
       "      <td>ID_777b4bae-d725-4a1a-9f4a-31b42ebc3e10_11_202...</td>\n",
       "      <td>0.0</td>\n",
       "      <td>ID_777b4bae-d725-4a1a-9f4a-31b42ebc3e10</td>\n",
       "      <td>a9280aca-c872-46f5-ada7-4a7cc31cf6ec</td>\n",
       "      <td>Diarrhea</td>\n",
       "      <td>11</td>\n",
       "      <td>2021</td>\n",
       "      <td>-8.68267</td>\n",
       "      <td>68.22165</td>\n",
       "    </tr>\n",
       "    <tr>\n",
       "      <th>9166</th>\n",
       "      <td>ID_777b4bae-d725-4a1a-9f4a-31b42ebc3e10_11_202...</td>\n",
       "      <td>0.0</td>\n",
       "      <td>ID_777b4bae-d725-4a1a-9f4a-31b42ebc3e10</td>\n",
       "      <td>a9280aca-c872-46f5-ada7-4a7cc31cf6ec</td>\n",
       "      <td>Diarrhea</td>\n",
       "      <td>11</td>\n",
       "      <td>2021</td>\n",
       "      <td>-8.68267</td>\n",
       "      <td>68.22165</td>\n",
       "    </tr>\n",
       "    <tr>\n",
       "      <th>9165</th>\n",
       "      <td>ID_777b4bae-d725-4a1a-9f4a-31b42ebc3e10_11_202...</td>\n",
       "      <td>0.0</td>\n",
       "      <td>ID_777b4bae-d725-4a1a-9f4a-31b42ebc3e10</td>\n",
       "      <td>a9280aca-c872-46f5-ada7-4a7cc31cf6ec</td>\n",
       "      <td>Diarrhea</td>\n",
       "      <td>11</td>\n",
       "      <td>2021</td>\n",
       "      <td>-8.68267</td>\n",
       "      <td>68.22165</td>\n",
       "    </tr>\n",
       "  </tbody>\n",
       "</table>\n",
       "<p>15188 rows × 9 columns</p>\n",
       "</div>"
      ],
      "text/plain": [
       "                                                     ID  Total  \\\n",
       "919   ID_90ae3848-6fe9-4326-95ee-d7b8679e7494_12_201...  489.0   \n",
       "9847  ID_361566e9-3fa1-4c0e-9778-84d5dc605feb_1_2019...  481.0   \n",
       "9891  ID_361566e9-3fa1-4c0e-9778-84d5dc605feb_5_2019...  472.0   \n",
       "9858  ID_361566e9-3fa1-4c0e-9778-84d5dc605feb_2_2019...  471.0   \n",
       "9859  ID_361566e9-3fa1-4c0e-9778-84d5dc605feb_2_2019...  470.0   \n",
       "...                                                 ...    ...   \n",
       "9171  ID_777b4bae-d725-4a1a-9f4a-31b42ebc3e10_11_202...    0.0   \n",
       "9169  ID_777b4bae-d725-4a1a-9f4a-31b42ebc3e10_11_202...    0.0   \n",
       "9167  ID_777b4bae-d725-4a1a-9f4a-31b42ebc3e10_11_202...    0.0   \n",
       "9166  ID_777b4bae-d725-4a1a-9f4a-31b42ebc3e10_11_202...    0.0   \n",
       "9165  ID_777b4bae-d725-4a1a-9f4a-31b42ebc3e10_11_202...    0.0   \n",
       "\n",
       "                                     Location  \\\n",
       "919   ID_90ae3848-6fe9-4326-95ee-d7b8679e7494   \n",
       "9847  ID_361566e9-3fa1-4c0e-9778-84d5dc605feb   \n",
       "9891  ID_361566e9-3fa1-4c0e-9778-84d5dc605feb   \n",
       "9858  ID_361566e9-3fa1-4c0e-9778-84d5dc605feb   \n",
       "9859  ID_361566e9-3fa1-4c0e-9778-84d5dc605feb   \n",
       "...                                       ...   \n",
       "9171  ID_777b4bae-d725-4a1a-9f4a-31b42ebc3e10   \n",
       "9169  ID_777b4bae-d725-4a1a-9f4a-31b42ebc3e10   \n",
       "9167  ID_777b4bae-d725-4a1a-9f4a-31b42ebc3e10   \n",
       "9166  ID_777b4bae-d725-4a1a-9f4a-31b42ebc3e10   \n",
       "9165  ID_777b4bae-d725-4a1a-9f4a-31b42ebc3e10   \n",
       "\n",
       "             Category_Health_Facility_UUID   Disease  Month  Year      Lat  \\\n",
       "919   b7f0a600-e19e-4c65-acb3-e28584dae35b   Malaria     12  2019 -8.62893   \n",
       "9847  b7f0a600-e19e-4c65-acb3-e28584dae35b  Diarrhea      1  2019 -8.62369   \n",
       "9891  b7f0a600-e19e-4c65-acb3-e28584dae35b  Diarrhea      5  2019 -8.62369   \n",
       "9858  b7f0a600-e19e-4c65-acb3-e28584dae35b  Diarrhea      2  2019 -8.62369   \n",
       "9859  b7f0a600-e19e-4c65-acb3-e28584dae35b  Diarrhea      2  2019 -8.62369   \n",
       "...                                    ...       ...    ...   ...      ...   \n",
       "9171  a9280aca-c872-46f5-ada7-4a7cc31cf6ec   Malaria     11  2021 -8.68267   \n",
       "9169  a9280aca-c872-46f5-ada7-4a7cc31cf6ec   Malaria     11  2021 -8.68267   \n",
       "9167  a9280aca-c872-46f5-ada7-4a7cc31cf6ec  Diarrhea     11  2021 -8.68267   \n",
       "9166  a9280aca-c872-46f5-ada7-4a7cc31cf6ec  Diarrhea     11  2021 -8.68267   \n",
       "9165  a9280aca-c872-46f5-ada7-4a7cc31cf6ec  Diarrhea     11  2021 -8.68267   \n",
       "\n",
       "           Lon  \n",
       "919   68.23959  \n",
       "9847  68.24270  \n",
       "9891  68.24270  \n",
       "9858  68.24270  \n",
       "9859  68.24270  \n",
       "...        ...  \n",
       "9171  68.22165  \n",
       "9169  68.22165  \n",
       "9167  68.22165  \n",
       "9166  68.22165  \n",
       "9165  68.22165  \n",
       "\n",
       "[15188 rows x 9 columns]"
      ]
     },
     "execution_count": 7,
     "metadata": {},
     "output_type": "execute_result"
    }
   ],
   "source": [
    "# train_df = train_df.drop_duplicates()\n",
    "train_df[train_df.drop(columns=['Total']).duplicated(keep=False)]"
   ]
  },
  {
   "cell_type": "code",
   "execution_count": 8,
   "metadata": {},
   "outputs": [
    {
     "data": {
      "text/html": [
       "<div>\n",
       "<style scoped>\n",
       "    .dataframe tbody tr th:only-of-type {\n",
       "        vertical-align: middle;\n",
       "    }\n",
       "\n",
       "    .dataframe tbody tr th {\n",
       "        vertical-align: top;\n",
       "    }\n",
       "\n",
       "    .dataframe thead th {\n",
       "        text-align: right;\n",
       "    }\n",
       "</style>\n",
       "<table border=\"1\" class=\"dataframe\">\n",
       "  <thead>\n",
       "    <tr style=\"text-align: right;\">\n",
       "      <th></th>\n",
       "      <th>ID</th>\n",
       "      <th>Total</th>\n",
       "      <th>Location</th>\n",
       "      <th>Category_Health_Facility_UUID</th>\n",
       "      <th>Disease</th>\n",
       "      <th>Month</th>\n",
       "      <th>Year</th>\n",
       "      <th>Lat</th>\n",
       "      <th>Lon</th>\n",
       "    </tr>\n",
       "  </thead>\n",
       "  <tbody>\n",
       "    <tr>\n",
       "      <th>919</th>\n",
       "      <td>ID_90ae3848-6fe9-4326-95ee-d7b8679e7494_12_201...</td>\n",
       "      <td>489.0</td>\n",
       "      <td>ID_90ae3848-6fe9-4326-95ee-d7b8679e7494</td>\n",
       "      <td>b7f0a600-e19e-4c65-acb3-e28584dae35b</td>\n",
       "      <td>Malaria</td>\n",
       "      <td>12</td>\n",
       "      <td>2019</td>\n",
       "      <td>-8.62893</td>\n",
       "      <td>68.23959</td>\n",
       "    </tr>\n",
       "    <tr>\n",
       "      <th>9847</th>\n",
       "      <td>ID_361566e9-3fa1-4c0e-9778-84d5dc605feb_1_2019...</td>\n",
       "      <td>481.0</td>\n",
       "      <td>ID_361566e9-3fa1-4c0e-9778-84d5dc605feb</td>\n",
       "      <td>b7f0a600-e19e-4c65-acb3-e28584dae35b</td>\n",
       "      <td>Diarrhea</td>\n",
       "      <td>1</td>\n",
       "      <td>2019</td>\n",
       "      <td>-8.62369</td>\n",
       "      <td>68.24270</td>\n",
       "    </tr>\n",
       "    <tr>\n",
       "      <th>9891</th>\n",
       "      <td>ID_361566e9-3fa1-4c0e-9778-84d5dc605feb_5_2019...</td>\n",
       "      <td>472.0</td>\n",
       "      <td>ID_361566e9-3fa1-4c0e-9778-84d5dc605feb</td>\n",
       "      <td>b7f0a600-e19e-4c65-acb3-e28584dae35b</td>\n",
       "      <td>Diarrhea</td>\n",
       "      <td>5</td>\n",
       "      <td>2019</td>\n",
       "      <td>-8.62369</td>\n",
       "      <td>68.24270</td>\n",
       "    </tr>\n",
       "    <tr>\n",
       "      <th>9858</th>\n",
       "      <td>ID_361566e9-3fa1-4c0e-9778-84d5dc605feb_2_2019...</td>\n",
       "      <td>471.0</td>\n",
       "      <td>ID_361566e9-3fa1-4c0e-9778-84d5dc605feb</td>\n",
       "      <td>b7f0a600-e19e-4c65-acb3-e28584dae35b</td>\n",
       "      <td>Diarrhea</td>\n",
       "      <td>2</td>\n",
       "      <td>2019</td>\n",
       "      <td>-8.62369</td>\n",
       "      <td>68.24270</td>\n",
       "    </tr>\n",
       "    <tr>\n",
       "      <th>15614</th>\n",
       "      <td>ID_1b04544b-5c96-4053-9a26-a1ab26f8a4a2_12_201...</td>\n",
       "      <td>464.0</td>\n",
       "      <td>ID_1b04544b-5c96-4053-9a26-a1ab26f8a4a2</td>\n",
       "      <td>b7f0a600-e19e-4c65-acb3-e28584dae35b</td>\n",
       "      <td>Malaria</td>\n",
       "      <td>12</td>\n",
       "      <td>2019</td>\n",
       "      <td>-8.57486</td>\n",
       "      <td>68.32839</td>\n",
       "    </tr>\n",
       "    <tr>\n",
       "      <th>...</th>\n",
       "      <td>...</td>\n",
       "      <td>...</td>\n",
       "      <td>...</td>\n",
       "      <td>...</td>\n",
       "      <td>...</td>\n",
       "      <td>...</td>\n",
       "      <td>...</td>\n",
       "      <td>...</td>\n",
       "      <td>...</td>\n",
       "    </tr>\n",
       "    <tr>\n",
       "      <th>9175</th>\n",
       "      <td>ID_777b4bae-d725-4a1a-9f4a-31b42ebc3e10_12_202...</td>\n",
       "      <td>0.0</td>\n",
       "      <td>ID_777b4bae-d725-4a1a-9f4a-31b42ebc3e10</td>\n",
       "      <td>a9280aca-c872-46f5-ada7-4a7cc31cf6ec</td>\n",
       "      <td>Typhoid</td>\n",
       "      <td>12</td>\n",
       "      <td>2021</td>\n",
       "      <td>-8.68267</td>\n",
       "      <td>68.22165</td>\n",
       "    </tr>\n",
       "    <tr>\n",
       "      <th>9174</th>\n",
       "      <td>ID_777b4bae-d725-4a1a-9f4a-31b42ebc3e10_12_202...</td>\n",
       "      <td>0.0</td>\n",
       "      <td>ID_777b4bae-d725-4a1a-9f4a-31b42ebc3e10</td>\n",
       "      <td>a9280aca-c872-46f5-ada7-4a7cc31cf6ec</td>\n",
       "      <td>Dysentery</td>\n",
       "      <td>12</td>\n",
       "      <td>2021</td>\n",
       "      <td>-8.68267</td>\n",
       "      <td>68.22165</td>\n",
       "    </tr>\n",
       "    <tr>\n",
       "      <th>9168</th>\n",
       "      <td>ID_777b4bae-d725-4a1a-9f4a-31b42ebc3e10_11_202...</td>\n",
       "      <td>0.0</td>\n",
       "      <td>ID_777b4bae-d725-4a1a-9f4a-31b42ebc3e10</td>\n",
       "      <td>a9280aca-c872-46f5-ada7-4a7cc31cf6ec</td>\n",
       "      <td>Schistosomiasis</td>\n",
       "      <td>11</td>\n",
       "      <td>2021</td>\n",
       "      <td>-8.68267</td>\n",
       "      <td>68.22165</td>\n",
       "    </tr>\n",
       "    <tr>\n",
       "      <th>9167</th>\n",
       "      <td>ID_777b4bae-d725-4a1a-9f4a-31b42ebc3e10_11_202...</td>\n",
       "      <td>0.0</td>\n",
       "      <td>ID_777b4bae-d725-4a1a-9f4a-31b42ebc3e10</td>\n",
       "      <td>a9280aca-c872-46f5-ada7-4a7cc31cf6ec</td>\n",
       "      <td>Diarrhea</td>\n",
       "      <td>11</td>\n",
       "      <td>2021</td>\n",
       "      <td>-8.68267</td>\n",
       "      <td>68.22165</td>\n",
       "    </tr>\n",
       "    <tr>\n",
       "      <th>23847</th>\n",
       "      <td>ID_776a9566-8bcb-4936-83a9-e8ef57834a9f_12_202...</td>\n",
       "      <td>0.0</td>\n",
       "      <td>ID_776a9566-8bcb-4936-83a9-e8ef57834a9f</td>\n",
       "      <td>a9280aca-c872-46f5-ada7-4a7cc31cf6ec</td>\n",
       "      <td>Intestinal Worms</td>\n",
       "      <td>12</td>\n",
       "      <td>2022</td>\n",
       "      <td>-8.63058</td>\n",
       "      <td>68.23478</td>\n",
       "    </tr>\n",
       "  </tbody>\n",
       "</table>\n",
       "<p>13001 rows × 9 columns</p>\n",
       "</div>"
      ],
      "text/plain": [
       "                                                      ID  Total  \\\n",
       "919    ID_90ae3848-6fe9-4326-95ee-d7b8679e7494_12_201...  489.0   \n",
       "9847   ID_361566e9-3fa1-4c0e-9778-84d5dc605feb_1_2019...  481.0   \n",
       "9891   ID_361566e9-3fa1-4c0e-9778-84d5dc605feb_5_2019...  472.0   \n",
       "9858   ID_361566e9-3fa1-4c0e-9778-84d5dc605feb_2_2019...  471.0   \n",
       "15614  ID_1b04544b-5c96-4053-9a26-a1ab26f8a4a2_12_201...  464.0   \n",
       "...                                                  ...    ...   \n",
       "9175   ID_777b4bae-d725-4a1a-9f4a-31b42ebc3e10_12_202...    0.0   \n",
       "9174   ID_777b4bae-d725-4a1a-9f4a-31b42ebc3e10_12_202...    0.0   \n",
       "9168   ID_777b4bae-d725-4a1a-9f4a-31b42ebc3e10_11_202...    0.0   \n",
       "9167   ID_777b4bae-d725-4a1a-9f4a-31b42ebc3e10_11_202...    0.0   \n",
       "23847  ID_776a9566-8bcb-4936-83a9-e8ef57834a9f_12_202...    0.0   \n",
       "\n",
       "                                      Location  \\\n",
       "919    ID_90ae3848-6fe9-4326-95ee-d7b8679e7494   \n",
       "9847   ID_361566e9-3fa1-4c0e-9778-84d5dc605feb   \n",
       "9891   ID_361566e9-3fa1-4c0e-9778-84d5dc605feb   \n",
       "9858   ID_361566e9-3fa1-4c0e-9778-84d5dc605feb   \n",
       "15614  ID_1b04544b-5c96-4053-9a26-a1ab26f8a4a2   \n",
       "...                                        ...   \n",
       "9175   ID_777b4bae-d725-4a1a-9f4a-31b42ebc3e10   \n",
       "9174   ID_777b4bae-d725-4a1a-9f4a-31b42ebc3e10   \n",
       "9168   ID_777b4bae-d725-4a1a-9f4a-31b42ebc3e10   \n",
       "9167   ID_777b4bae-d725-4a1a-9f4a-31b42ebc3e10   \n",
       "23847  ID_776a9566-8bcb-4936-83a9-e8ef57834a9f   \n",
       "\n",
       "              Category_Health_Facility_UUID           Disease  Month  Year  \\\n",
       "919    b7f0a600-e19e-4c65-acb3-e28584dae35b           Malaria     12  2019   \n",
       "9847   b7f0a600-e19e-4c65-acb3-e28584dae35b          Diarrhea      1  2019   \n",
       "9891   b7f0a600-e19e-4c65-acb3-e28584dae35b          Diarrhea      5  2019   \n",
       "9858   b7f0a600-e19e-4c65-acb3-e28584dae35b          Diarrhea      2  2019   \n",
       "15614  b7f0a600-e19e-4c65-acb3-e28584dae35b           Malaria     12  2019   \n",
       "...                                     ...               ...    ...   ...   \n",
       "9175   a9280aca-c872-46f5-ada7-4a7cc31cf6ec           Typhoid     12  2021   \n",
       "9174   a9280aca-c872-46f5-ada7-4a7cc31cf6ec         Dysentery     12  2021   \n",
       "9168   a9280aca-c872-46f5-ada7-4a7cc31cf6ec   Schistosomiasis     11  2021   \n",
       "9167   a9280aca-c872-46f5-ada7-4a7cc31cf6ec          Diarrhea     11  2021   \n",
       "23847  a9280aca-c872-46f5-ada7-4a7cc31cf6ec  Intestinal Worms     12  2022   \n",
       "\n",
       "           Lat       Lon  \n",
       "919   -8.62893  68.23959  \n",
       "9847  -8.62369  68.24270  \n",
       "9891  -8.62369  68.24270  \n",
       "9858  -8.62369  68.24270  \n",
       "15614 -8.57486  68.32839  \n",
       "...        ...       ...  \n",
       "9175  -8.68267  68.22165  \n",
       "9174  -8.68267  68.22165  \n",
       "9168  -8.68267  68.22165  \n",
       "9167  -8.68267  68.22165  \n",
       "23847 -8.63058  68.23478  \n",
       "\n",
       "[13001 rows x 9 columns]"
      ]
     },
     "execution_count": 8,
     "metadata": {},
     "output_type": "execute_result"
    }
   ],
   "source": [
    "dup_subset = train_df.drop(columns=['Total']).columns.tolist()\n",
    "filtered = train_df.drop_duplicates(subset=dup_subset, keep='first')\n",
    "filtered"
   ]
  },
  {
   "cell_type": "code",
   "execution_count": 9,
   "metadata": {},
   "outputs": [
    {
     "data": {
      "text/html": [
       "<div>\n",
       "<style scoped>\n",
       "    .dataframe tbody tr th:only-of-type {\n",
       "        vertical-align: middle;\n",
       "    }\n",
       "\n",
       "    .dataframe tbody tr th {\n",
       "        vertical-align: top;\n",
       "    }\n",
       "\n",
       "    .dataframe thead th {\n",
       "        text-align: right;\n",
       "    }\n",
       "</style>\n",
       "<table border=\"1\" class=\"dataframe\">\n",
       "  <thead>\n",
       "    <tr style=\"text-align: right;\">\n",
       "      <th></th>\n",
       "      <th>ID</th>\n",
       "      <th>Total</th>\n",
       "      <th>Location</th>\n",
       "      <th>Category_Health_Facility_UUID</th>\n",
       "      <th>Disease</th>\n",
       "      <th>Month</th>\n",
       "      <th>Year</th>\n",
       "      <th>Lat</th>\n",
       "      <th>Lon</th>\n",
       "    </tr>\n",
       "  </thead>\n",
       "  <tbody>\n",
       "  </tbody>\n",
       "</table>\n",
       "</div>"
      ],
      "text/plain": [
       "Empty DataFrame\n",
       "Columns: [ID, Total, Location, Category_Health_Facility_UUID, Disease, Month, Year, Lat, Lon]\n",
       "Index: []"
      ]
     },
     "execution_count": 9,
     "metadata": {},
     "output_type": "execute_result"
    }
   ],
   "source": [
    "filtered[filtered.duplicated]"
   ]
  },
  {
   "cell_type": "code",
   "execution_count": 10,
   "metadata": {},
   "outputs": [],
   "source": [
    "train_df = filtered.copy().reset_index(drop=True)"
   ]
  },
  {
   "cell_type": "code",
   "execution_count": 11,
   "metadata": {},
   "outputs": [],
   "source": [
    "# train_df['date'] = pd.to_datetime(train_df[['Year', 'Month']].assign(day=1))\n",
    "# train_df['loc_dis'] = train_df['Location'].astype(str) + '_' + train_df['Disease'].astype(str)\n",
    "# train_df.sort_values(by=['loc_dis', 'date']).to_csv('train_sort_by_date.csv')"
   ]
  },
  {
   "cell_type": "code",
   "execution_count": 12,
   "metadata": {},
   "outputs": [
    {
     "data": {
      "text/plain": [
       "(489.0, 14.144988847011769, 0.0)"
      ]
     },
     "execution_count": 12,
     "metadata": {},
     "output_type": "execute_result"
    }
   ],
   "source": [
    "train_df['Total'].max(), train_df['Total'].mean(), train_df['Total'].min()"
   ]
  },
  {
   "cell_type": "code",
   "execution_count": 13,
   "metadata": {},
   "outputs": [],
   "source": [
    "train_df['log_Total'] = np.log(train_df['Total'] + 1)"
   ]
  },
  {
   "cell_type": "code",
   "execution_count": 14,
   "metadata": {},
   "outputs": [
    {
     "data": {
      "text/plain": [
       "(6.194405391104672, 1.2824013759035355, 0.0)"
      ]
     },
     "execution_count": 14,
     "metadata": {},
     "output_type": "execute_result"
    }
   ],
   "source": [
    "train_df['log_Total'].max(), train_df['log_Total'].mean(), train_df['log_Total'].min()"
   ]
  },
  {
   "cell_type": "markdown",
   "metadata": {},
   "source": [
    "# Grouping Locations"
   ]
  },
  {
   "cell_type": "code",
   "execution_count": 15,
   "metadata": {},
   "outputs": [
    {
     "data": {
      "text/html": [
       "<div>\n",
       "<style scoped>\n",
       "    .dataframe tbody tr th:only-of-type {\n",
       "        vertical-align: middle;\n",
       "    }\n",
       "\n",
       "    .dataframe tbody tr th {\n",
       "        vertical-align: top;\n",
       "    }\n",
       "\n",
       "    .dataframe thead th {\n",
       "        text-align: right;\n",
       "    }\n",
       "</style>\n",
       "<table border=\"1\" class=\"dataframe\">\n",
       "  <thead>\n",
       "    <tr style=\"text-align: right;\">\n",
       "      <th></th>\n",
       "      <th>ID</th>\n",
       "      <th>Total</th>\n",
       "      <th>Location</th>\n",
       "      <th>Category_Health_Facility_UUID</th>\n",
       "      <th>Disease</th>\n",
       "      <th>Month</th>\n",
       "      <th>Year</th>\n",
       "      <th>Lat</th>\n",
       "      <th>Lon</th>\n",
       "      <th>log_Total</th>\n",
       "      <th>Loc_Dis</th>\n",
       "    </tr>\n",
       "  </thead>\n",
       "  <tbody>\n",
       "    <tr>\n",
       "      <th>0</th>\n",
       "      <td>ID_90ae3848-6fe9-4326-95ee-d7b8679e7494_12_201...</td>\n",
       "      <td>489.0</td>\n",
       "      <td>ID_90ae3848-6fe9-4326-95ee-d7b8679e7494</td>\n",
       "      <td>b7f0a600-e19e-4c65-acb3-e28584dae35b</td>\n",
       "      <td>Malaria</td>\n",
       "      <td>12</td>\n",
       "      <td>2019</td>\n",
       "      <td>-8.62893</td>\n",
       "      <td>68.23959</td>\n",
       "      <td>6.194405</td>\n",
       "      <td>ID_90ae3848-6fe9-4326-95ee-d7b8679e7494_Malaria</td>\n",
       "    </tr>\n",
       "    <tr>\n",
       "      <th>1</th>\n",
       "      <td>ID_361566e9-3fa1-4c0e-9778-84d5dc605feb_1_2019...</td>\n",
       "      <td>481.0</td>\n",
       "      <td>ID_361566e9-3fa1-4c0e-9778-84d5dc605feb</td>\n",
       "      <td>b7f0a600-e19e-4c65-acb3-e28584dae35b</td>\n",
       "      <td>Diarrhea</td>\n",
       "      <td>1</td>\n",
       "      <td>2019</td>\n",
       "      <td>-8.62369</td>\n",
       "      <td>68.24270</td>\n",
       "      <td>6.177944</td>\n",
       "      <td>ID_361566e9-3fa1-4c0e-9778-84d5dc605feb_Diarrhea</td>\n",
       "    </tr>\n",
       "    <tr>\n",
       "      <th>2</th>\n",
       "      <td>ID_361566e9-3fa1-4c0e-9778-84d5dc605feb_5_2019...</td>\n",
       "      <td>472.0</td>\n",
       "      <td>ID_361566e9-3fa1-4c0e-9778-84d5dc605feb</td>\n",
       "      <td>b7f0a600-e19e-4c65-acb3-e28584dae35b</td>\n",
       "      <td>Diarrhea</td>\n",
       "      <td>5</td>\n",
       "      <td>2019</td>\n",
       "      <td>-8.62369</td>\n",
       "      <td>68.24270</td>\n",
       "      <td>6.159095</td>\n",
       "      <td>ID_361566e9-3fa1-4c0e-9778-84d5dc605feb_Diarrhea</td>\n",
       "    </tr>\n",
       "    <tr>\n",
       "      <th>3</th>\n",
       "      <td>ID_361566e9-3fa1-4c0e-9778-84d5dc605feb_2_2019...</td>\n",
       "      <td>471.0</td>\n",
       "      <td>ID_361566e9-3fa1-4c0e-9778-84d5dc605feb</td>\n",
       "      <td>b7f0a600-e19e-4c65-acb3-e28584dae35b</td>\n",
       "      <td>Diarrhea</td>\n",
       "      <td>2</td>\n",
       "      <td>2019</td>\n",
       "      <td>-8.62369</td>\n",
       "      <td>68.24270</td>\n",
       "      <td>6.156979</td>\n",
       "      <td>ID_361566e9-3fa1-4c0e-9778-84d5dc605feb_Diarrhea</td>\n",
       "    </tr>\n",
       "    <tr>\n",
       "      <th>4</th>\n",
       "      <td>ID_1b04544b-5c96-4053-9a26-a1ab26f8a4a2_12_201...</td>\n",
       "      <td>464.0</td>\n",
       "      <td>ID_1b04544b-5c96-4053-9a26-a1ab26f8a4a2</td>\n",
       "      <td>b7f0a600-e19e-4c65-acb3-e28584dae35b</td>\n",
       "      <td>Malaria</td>\n",
       "      <td>12</td>\n",
       "      <td>2019</td>\n",
       "      <td>-8.57486</td>\n",
       "      <td>68.32839</td>\n",
       "      <td>6.142037</td>\n",
       "      <td>ID_1b04544b-5c96-4053-9a26-a1ab26f8a4a2_Malaria</td>\n",
       "    </tr>\n",
       "    <tr>\n",
       "      <th>...</th>\n",
       "      <td>...</td>\n",
       "      <td>...</td>\n",
       "      <td>...</td>\n",
       "      <td>...</td>\n",
       "      <td>...</td>\n",
       "      <td>...</td>\n",
       "      <td>...</td>\n",
       "      <td>...</td>\n",
       "      <td>...</td>\n",
       "      <td>...</td>\n",
       "      <td>...</td>\n",
       "    </tr>\n",
       "    <tr>\n",
       "      <th>97</th>\n",
       "      <td>ID_ecc21577-6c70-4ba3-a2a2-1d9c0e0477f0_8_2021...</td>\n",
       "      <td>205.0</td>\n",
       "      <td>ID_ecc21577-6c70-4ba3-a2a2-1d9c0e0477f0</td>\n",
       "      <td>b7f0a600-e19e-4c65-acb3-e28584dae35b</td>\n",
       "      <td>Diarrhea</td>\n",
       "      <td>8</td>\n",
       "      <td>2021</td>\n",
       "      <td>-8.62255</td>\n",
       "      <td>68.22360</td>\n",
       "      <td>5.327876</td>\n",
       "      <td>ID_ecc21577-6c70-4ba3-a2a2-1d9c0e0477f0_Diarrhea</td>\n",
       "    </tr>\n",
       "    <tr>\n",
       "      <th>98</th>\n",
       "      <td>ID_361566e9-3fa1-4c0e-9778-84d5dc605feb_12_202...</td>\n",
       "      <td>204.0</td>\n",
       "      <td>ID_361566e9-3fa1-4c0e-9778-84d5dc605feb</td>\n",
       "      <td>b7f0a600-e19e-4c65-acb3-e28584dae35b</td>\n",
       "      <td>Diarrhea</td>\n",
       "      <td>12</td>\n",
       "      <td>2021</td>\n",
       "      <td>-8.62369</td>\n",
       "      <td>68.24270</td>\n",
       "      <td>5.323010</td>\n",
       "      <td>ID_361566e9-3fa1-4c0e-9778-84d5dc605feb_Diarrhea</td>\n",
       "    </tr>\n",
       "    <tr>\n",
       "      <th>99</th>\n",
       "      <td>ID_8efc0ee1-e183-4518-afc4-83b63b79b1f8_1_2020...</td>\n",
       "      <td>203.0</td>\n",
       "      <td>ID_8efc0ee1-e183-4518-afc4-83b63b79b1f8</td>\n",
       "      <td>a9280aca-c872-46f5-ada7-4a7cc31cf6ec</td>\n",
       "      <td>Malaria</td>\n",
       "      <td>1</td>\n",
       "      <td>2020</td>\n",
       "      <td>-8.71376</td>\n",
       "      <td>68.16972</td>\n",
       "      <td>5.318120</td>\n",
       "      <td>ID_8efc0ee1-e183-4518-afc4-83b63b79b1f8_Malaria</td>\n",
       "    </tr>\n",
       "    <tr>\n",
       "      <th>100</th>\n",
       "      <td>ID_ecc21577-6c70-4ba3-a2a2-1d9c0e0477f0_3_2020...</td>\n",
       "      <td>202.0</td>\n",
       "      <td>ID_ecc21577-6c70-4ba3-a2a2-1d9c0e0477f0</td>\n",
       "      <td>b7f0a600-e19e-4c65-acb3-e28584dae35b</td>\n",
       "      <td>Diarrhea</td>\n",
       "      <td>3</td>\n",
       "      <td>2020</td>\n",
       "      <td>-8.62255</td>\n",
       "      <td>68.22360</td>\n",
       "      <td>5.313206</td>\n",
       "      <td>ID_ecc21577-6c70-4ba3-a2a2-1d9c0e0477f0_Diarrhea</td>\n",
       "    </tr>\n",
       "    <tr>\n",
       "      <th>101</th>\n",
       "      <td>ID_ecc21577-6c70-4ba3-a2a2-1d9c0e0477f0_5_2019...</td>\n",
       "      <td>201.0</td>\n",
       "      <td>ID_ecc21577-6c70-4ba3-a2a2-1d9c0e0477f0</td>\n",
       "      <td>b7f0a600-e19e-4c65-acb3-e28584dae35b</td>\n",
       "      <td>Diarrhea</td>\n",
       "      <td>5</td>\n",
       "      <td>2019</td>\n",
       "      <td>-8.62255</td>\n",
       "      <td>68.22360</td>\n",
       "      <td>5.308268</td>\n",
       "      <td>ID_ecc21577-6c70-4ba3-a2a2-1d9c0e0477f0_Diarrhea</td>\n",
       "    </tr>\n",
       "  </tbody>\n",
       "</table>\n",
       "<p>102 rows × 11 columns</p>\n",
       "</div>"
      ],
      "text/plain": [
       "                                                    ID  Total  \\\n",
       "0    ID_90ae3848-6fe9-4326-95ee-d7b8679e7494_12_201...  489.0   \n",
       "1    ID_361566e9-3fa1-4c0e-9778-84d5dc605feb_1_2019...  481.0   \n",
       "2    ID_361566e9-3fa1-4c0e-9778-84d5dc605feb_5_2019...  472.0   \n",
       "3    ID_361566e9-3fa1-4c0e-9778-84d5dc605feb_2_2019...  471.0   \n",
       "4    ID_1b04544b-5c96-4053-9a26-a1ab26f8a4a2_12_201...  464.0   \n",
       "..                                                 ...    ...   \n",
       "97   ID_ecc21577-6c70-4ba3-a2a2-1d9c0e0477f0_8_2021...  205.0   \n",
       "98   ID_361566e9-3fa1-4c0e-9778-84d5dc605feb_12_202...  204.0   \n",
       "99   ID_8efc0ee1-e183-4518-afc4-83b63b79b1f8_1_2020...  203.0   \n",
       "100  ID_ecc21577-6c70-4ba3-a2a2-1d9c0e0477f0_3_2020...  202.0   \n",
       "101  ID_ecc21577-6c70-4ba3-a2a2-1d9c0e0477f0_5_2019...  201.0   \n",
       "\n",
       "                                    Location  \\\n",
       "0    ID_90ae3848-6fe9-4326-95ee-d7b8679e7494   \n",
       "1    ID_361566e9-3fa1-4c0e-9778-84d5dc605feb   \n",
       "2    ID_361566e9-3fa1-4c0e-9778-84d5dc605feb   \n",
       "3    ID_361566e9-3fa1-4c0e-9778-84d5dc605feb   \n",
       "4    ID_1b04544b-5c96-4053-9a26-a1ab26f8a4a2   \n",
       "..                                       ...   \n",
       "97   ID_ecc21577-6c70-4ba3-a2a2-1d9c0e0477f0   \n",
       "98   ID_361566e9-3fa1-4c0e-9778-84d5dc605feb   \n",
       "99   ID_8efc0ee1-e183-4518-afc4-83b63b79b1f8   \n",
       "100  ID_ecc21577-6c70-4ba3-a2a2-1d9c0e0477f0   \n",
       "101  ID_ecc21577-6c70-4ba3-a2a2-1d9c0e0477f0   \n",
       "\n",
       "            Category_Health_Facility_UUID   Disease  Month  Year      Lat  \\\n",
       "0    b7f0a600-e19e-4c65-acb3-e28584dae35b   Malaria     12  2019 -8.62893   \n",
       "1    b7f0a600-e19e-4c65-acb3-e28584dae35b  Diarrhea      1  2019 -8.62369   \n",
       "2    b7f0a600-e19e-4c65-acb3-e28584dae35b  Diarrhea      5  2019 -8.62369   \n",
       "3    b7f0a600-e19e-4c65-acb3-e28584dae35b  Diarrhea      2  2019 -8.62369   \n",
       "4    b7f0a600-e19e-4c65-acb3-e28584dae35b   Malaria     12  2019 -8.57486   \n",
       "..                                    ...       ...    ...   ...      ...   \n",
       "97   b7f0a600-e19e-4c65-acb3-e28584dae35b  Diarrhea      8  2021 -8.62255   \n",
       "98   b7f0a600-e19e-4c65-acb3-e28584dae35b  Diarrhea     12  2021 -8.62369   \n",
       "99   a9280aca-c872-46f5-ada7-4a7cc31cf6ec   Malaria      1  2020 -8.71376   \n",
       "100  b7f0a600-e19e-4c65-acb3-e28584dae35b  Diarrhea      3  2020 -8.62255   \n",
       "101  b7f0a600-e19e-4c65-acb3-e28584dae35b  Diarrhea      5  2019 -8.62255   \n",
       "\n",
       "          Lon  log_Total                                           Loc_Dis  \n",
       "0    68.23959   6.194405   ID_90ae3848-6fe9-4326-95ee-d7b8679e7494_Malaria  \n",
       "1    68.24270   6.177944  ID_361566e9-3fa1-4c0e-9778-84d5dc605feb_Diarrhea  \n",
       "2    68.24270   6.159095  ID_361566e9-3fa1-4c0e-9778-84d5dc605feb_Diarrhea  \n",
       "3    68.24270   6.156979  ID_361566e9-3fa1-4c0e-9778-84d5dc605feb_Diarrhea  \n",
       "4    68.32839   6.142037   ID_1b04544b-5c96-4053-9a26-a1ab26f8a4a2_Malaria  \n",
       "..        ...        ...                                               ...  \n",
       "97   68.22360   5.327876  ID_ecc21577-6c70-4ba3-a2a2-1d9c0e0477f0_Diarrhea  \n",
       "98   68.24270   5.323010  ID_361566e9-3fa1-4c0e-9778-84d5dc605feb_Diarrhea  \n",
       "99   68.16972   5.318120   ID_8efc0ee1-e183-4518-afc4-83b63b79b1f8_Malaria  \n",
       "100  68.22360   5.313206  ID_ecc21577-6c70-4ba3-a2a2-1d9c0e0477f0_Diarrhea  \n",
       "101  68.22360   5.308268  ID_ecc21577-6c70-4ba3-a2a2-1d9c0e0477f0_Diarrhea  \n",
       "\n",
       "[102 rows x 11 columns]"
      ]
     },
     "execution_count": 15,
     "metadata": {},
     "output_type": "execute_result"
    }
   ],
   "source": [
    "copy_df = train_df.copy()\n",
    "copy_df['Loc_Dis'] = copy_df['Location'] + '_' + copy_df['Disease']\n",
    "high_df = copy_df[copy_df['Total'] > 200]\n",
    "high_df"
   ]
  },
  {
   "cell_type": "code",
   "execution_count": 16,
   "metadata": {},
   "outputs": [
    {
     "data": {
      "text/plain": [
       "Location\n",
       "ID_361566e9-3fa1-4c0e-9778-84d5dc605feb    29\n",
       "ID_ecc21577-6c70-4ba3-a2a2-1d9c0e0477f0    24\n",
       "ID_1b04544b-5c96-4053-9a26-a1ab26f8a4a2    18\n",
       "ID_ddf39ebf-663b-4f32-92b1-a700598dd4b9     9\n",
       "ID_02f25962-4419-4e72-9402-3f6c513ec454     9\n",
       "ID_8b36c0ac-b46c-4c9a-af37-d6717faa340e     5\n",
       "ID_90ae3848-6fe9-4326-95ee-d7b8679e7494     2\n",
       "ID_ef027061-3d99-4215-8487-374b4ab4699a     2\n",
       "ID_8efc0ee1-e183-4518-afc4-83b63b79b1f8     2\n",
       "ID_69a65631-3c68-4800-9b1a-32996da92c7a     1\n",
       "ID_6f399bd7-f181-432a-bddc-9fff8dca7f81     1\n",
       "Name: count, dtype: int64"
      ]
     },
     "execution_count": 16,
     "metadata": {},
     "output_type": "execute_result"
    }
   ],
   "source": [
    "high_df['Location'].value_counts()"
   ]
  },
  {
   "cell_type": "code",
   "execution_count": 17,
   "metadata": {},
   "outputs": [
    {
     "data": {
      "text/plain": [
       "Loc_Dis\n",
       "ID_361566e9-3fa1-4c0e-9778-84d5dc605feb_Diarrhea            29\n",
       "ID_ecc21577-6c70-4ba3-a2a2-1d9c0e0477f0_Diarrhea            24\n",
       "ID_1b04544b-5c96-4053-9a26-a1ab26f8a4a2_Malaria             10\n",
       "ID_1b04544b-5c96-4053-9a26-a1ab26f8a4a2_Diarrhea             7\n",
       "ID_ddf39ebf-663b-4f32-92b1-a700598dd4b9_Malaria              4\n",
       "ID_ddf39ebf-663b-4f32-92b1-a700598dd4b9_Typhoid              4\n",
       "ID_8b36c0ac-b46c-4c9a-af37-d6717faa340e_Typhoid              4\n",
       "ID_02f25962-4419-4e72-9402-3f6c513ec454_Intestinal Worms     3\n",
       "ID_02f25962-4419-4e72-9402-3f6c513ec454_Typhoid              3\n",
       "ID_02f25962-4419-4e72-9402-3f6c513ec454_Diarrhea             3\n",
       "ID_ef027061-3d99-4215-8487-374b4ab4699a_Intestinal Worms     2\n",
       "ID_8efc0ee1-e183-4518-afc4-83b63b79b1f8_Malaria              2\n",
       "ID_90ae3848-6fe9-4326-95ee-d7b8679e7494_Malaria              2\n",
       "ID_8b36c0ac-b46c-4c9a-af37-d6717faa340e_Intestinal Worms     1\n",
       "ID_1b04544b-5c96-4053-9a26-a1ab26f8a4a2_Schistosomiasis      1\n",
       "ID_ddf39ebf-663b-4f32-92b1-a700598dd4b9_Intestinal Worms     1\n",
       "ID_69a65631-3c68-4800-9b1a-32996da92c7a_Malaria              1\n",
       "ID_6f399bd7-f181-432a-bddc-9fff8dca7f81_Malaria              1\n",
       "Name: count, dtype: int64"
      ]
     },
     "execution_count": 17,
     "metadata": {},
     "output_type": "execute_result"
    }
   ],
   "source": [
    "high_df['Loc_Dis'].value_counts()"
   ]
  },
  {
   "cell_type": "code",
   "execution_count": 18,
   "metadata": {},
   "outputs": [
    {
     "data": {
      "text/plain": [
       "Disease\n",
       "Diarrhea            63\n",
       "Malaria             20\n",
       "Typhoid             11\n",
       "Intestinal Worms     7\n",
       "Schistosomiasis      1\n",
       "Name: count, dtype: int64"
      ]
     },
     "execution_count": 18,
     "metadata": {},
     "output_type": "execute_result"
    }
   ],
   "source": [
    "high_df['Disease'].value_counts()"
   ]
  },
  {
   "cell_type": "code",
   "execution_count": 19,
   "metadata": {},
   "outputs": [],
   "source": [
    "locdis_df = copy_df[copy_df['Loc_Dis'] == 'ID_1b04544b-5c96-4053-9a26-a1ab26f8a4a2_Malaria']\n",
    "# locdis_df.sort_values(by=['Year', 'Month'])"
   ]
  },
  {
   "cell_type": "code",
   "execution_count": 20,
   "metadata": {},
   "outputs": [
    {
     "data": {
      "text/plain": [
       "Year\n",
       "2019    174.750000\n",
       "2020    180.833333\n",
       "2021    104.916667\n",
       "2022     33.500000\n",
       "Name: Total, dtype: float64"
      ]
     },
     "execution_count": 20,
     "metadata": {},
     "output_type": "execute_result"
    }
   ],
   "source": [
    "locdis_df.groupby(['Year'])['Total'].mean()"
   ]
  },
  {
   "cell_type": "code",
   "execution_count": 21,
   "metadata": {},
   "outputs": [],
   "source": [
    "# plt.figure(figsize=(8, 6))\n",
    "# plt.scatter(copy_df['Lon_norm'], copy_df['Lat_norm'], color='blue', marker='x')\n",
    "# plt.title('Latitude vs Longitude')\n",
    "# plt.xlabel('Longitude')\n",
    "# plt.ylabel('Latitude')\n",
    "# plt.grid(True)\n",
    "# plt.show()"
   ]
  },
  {
   "cell_type": "code",
   "execution_count": 22,
   "metadata": {},
   "outputs": [],
   "source": [
    "# plt.figure(figsize=(10, 6))\n",
    "\n",
    "# # Scatter plot with colors based on cluster labels\n",
    "# sns.scatterplot(\n",
    "#     x='Lon', \n",
    "#     y='Lat', \n",
    "#     hue='cluster',  # Use the cluster labels from K-Means\n",
    "#     palette='tab10',       # More distinct color palette\n",
    "#     data=copy_df, \n",
    "#     s=50,                  # Marker size\n",
    "#     edgecolor='black'      # Edge color for markers\n",
    "# )\n",
    "\n",
    "# # Add labels and title\n",
    "# plt.title('K-Means Clustering of Locations', fontsize=16)\n",
    "# plt.xlabel('Longitude', fontsize=14)\n",
    "# plt.ylabel('Latitude', fontsize=14)\n",
    "# plt.legend(title='Cluster', bbox_to_anchor=(1.05, 1), loc='upper left')  # Move legend outside\n",
    "\n",
    "# # Show the plot\n",
    "# plt.tight_layout()"
   ]
  },
  {
   "cell_type": "code",
   "execution_count": 23,
   "metadata": {},
   "outputs": [],
   "source": [
    "# train_df = copy_df.copy()"
   ]
  },
  {
   "cell_type": "markdown",
   "metadata": {},
   "source": [
    "# Merging Datasets"
   ]
  },
  {
   "cell_type": "code",
   "execution_count": 24,
   "metadata": {},
   "outputs": [],
   "source": [
    "hospital_data = pd.concat([train_df, test_df])"
   ]
  },
  {
   "cell_type": "code",
   "execution_count": 25,
   "metadata": {},
   "outputs": [],
   "source": [
    "water_sources_df = water_sources_df.dropna()"
   ]
  },
  {
   "cell_type": "code",
   "execution_count": 26,
   "metadata": {},
   "outputs": [],
   "source": [
    "merged_data = hospital_data.copy()\n",
    "datasets = [\n",
    "    (toilets_df, 'toilet'),\n",
    "    (waste_management_df, 'waste'),\n",
    "    (water_sources_df, 'water'),\n",
    "]"
   ]
  },
  {
   "cell_type": "code",
   "execution_count": 27,
   "metadata": {},
   "outputs": [],
   "source": [
    "extra_data_cols = toilets_df.drop(columns=['Year', 'Month', 'Lat', 'Lon', 'lat_lon', 'Month_Year', 'Month_Year_lat_lon']).columns.tolist()"
   ]
  },
  {
   "cell_type": "code",
   "execution_count": 28,
   "metadata": {},
   "outputs": [],
   "source": [
    "# Initialize the final DataFrame\n",
    "full_extra_df = pd.DataFrame(columns=extra_data_cols)\n",
    "\n",
    "# Convert merged_data to a NumPy array for faster iteration\n",
    "merged_data_array = merged_data[['Year', 'Month', 'Lat', 'Lon']].values\n",
    "\n",
    "# Initialize a list to store the results\n",
    "results = []\n",
    "\n",
    "# Iterate over each row in merged_data\n",
    "for idx, row in enumerate(merged_data_array):\n",
    "    year, month, lat, lon = row\n",
    "    extra_data = np.zeros((len(datasets), len(extra_data_cols)))  # Store extra data for each dataset\n",
    "    near_dict = {}\n",
    "\n",
    "    for i, (df, title) in enumerate(datasets):\n",
    "        # Filter the dataset for the current year and month\n",
    "        df_filtered = df[(df['Year'] == year) & (df['Month'] == month)]\n",
    "        df_lat_lon = df_filtered[['Lat', 'Lon']].values\n",
    "\n",
    "        # Build the cKDTree and query nearest points\n",
    "        tree = cKDTree(df_lat_lon)\n",
    "        nearest_distance, nearest_idx = tree.query([lat, lon])\n",
    "        nearby_indices = tree.query_ball_point([lat, lon], 0.005)\n",
    "        # Store the nearest point's extra data\n",
    "        extra_data[i] = df_filtered.iloc[nearest_idx][extra_data_cols].values\n",
    "\n",
    "        # Add nearest distance and nearby count to the dictionary\n",
    "        near_dict[f'nearest_{title}'] = nearest_distance\n",
    "        near_dict[f'nearby_{title}_count'] = len(nearby_indices)\n",
    "\n",
    "    # Compute the mean of extra_data and add it to the results\n",
    "    extra_data_mean = np.mean(extra_data, axis=0)\n",
    "    results.append(np.concatenate([extra_data_mean, list(near_dict.values())]))\n",
    "\n",
    "# Convert the results to a DataFrame\n",
    "results_array = np.array(results)\n",
    "result_columns = extra_data_cols + list(near_dict.keys())\n",
    "full_extra_df = pd.DataFrame(results_array, columns=result_columns)"
   ]
  },
  {
   "cell_type": "code",
   "execution_count": 29,
   "metadata": {},
   "outputs": [],
   "source": [
    "merged_data = pd.concat([merged_data.reset_index(drop=True), full_extra_df.reset_index(drop=True)], axis=1)"
   ]
  },
  {
   "cell_type": "markdown",
   "metadata": {},
   "source": [
    "# Adding Prev Year Data"
   ]
  },
  {
   "cell_type": "code",
   "execution_count": 30,
   "metadata": {},
   "outputs": [],
   "source": [
    "# merged_data = merged_data.sort_values(by=['Location', 'Disease', 'Year', 'Month'])\n",
    "\n",
    "# yearly_means = merged_data.groupby(['Location', 'Disease', 'Month'])['Total'].mean().reset_index(name='Yearly_mean')\n",
    "# yearly_means['key'] = yearly_means['Location'] + '_' + yearly_means['Disease'] + '_' + yearly_means['Month'].astype(str)\n",
    "# yearly_means = yearly_means.set_index('key')"
   ]
  },
  {
   "cell_type": "code",
   "execution_count": 31,
   "metadata": {},
   "outputs": [],
   "source": [
    "# merged_data = merged_data.merge(\n",
    "#     yearly_means,\n",
    "#     on=['Location', 'Disease', 'Month'],\n",
    "#     how='left'\n",
    "# )"
   ]
  },
  {
   "cell_type": "code",
   "execution_count": 32,
   "metadata": {},
   "outputs": [],
   "source": [
    "# merged_data_copy = merged_data.copy()\n",
    "# # merged_data_copy['loc_dis_year'] = merged_data_copy['Location'] + '_' + merged_data_copy['Disease'] + '_' + merged_data_copy['Year'].astype(str)\n",
    "\n",
    "# for idx, row in merged_data_copy.iterrows():\n",
    "#     if row['Year'] == 2019: continue\n",
    "    \n",
    "#     key = row['Location'] + '_' + row['Disease'] + '_' + str((row['Month']))\n",
    "#     try:\n",
    "#         value = yearly_means.loc[key]['Yearly_mean']\n",
    "#     except KeyError:\n",
    "#         value = np.nan\n",
    "\n",
    "#     merged_data_copy.at[idx, 'prev_year_mean'] = value"
   ]
  },
  {
   "cell_type": "code",
   "execution_count": 33,
   "metadata": {},
   "outputs": [],
   "source": [
    "# for year in [2019, 2020, 2021,2022, 2023]:\n",
    "#     year_df = merged_data[merged_data['Year'] == year]\n",
    "#     print(year, year_df['Yearly_mean'].isna().sum())\n",
    "\n",
    "#     # if year == 2023:\n",
    "#     #     display(year_df)"
   ]
  },
  {
   "cell_type": "code",
   "execution_count": 34,
   "metadata": {},
   "outputs": [],
   "source": [
    "merged_data['loc_dis'] = merged_data['Location'] + merged_data['Disease']"
   ]
  },
  {
   "cell_type": "code",
   "execution_count": 35,
   "metadata": {},
   "outputs": [],
   "source": [
    "# merged_data = merged_data_copy.copy()"
   ]
  },
  {
   "cell_type": "code",
   "execution_count": 36,
   "metadata": {},
   "outputs": [],
   "source": [
    "merged_data = merged_data[merged_data['Year'] != 2019]"
   ]
  },
  {
   "cell_type": "code",
   "execution_count": 37,
   "metadata": {},
   "outputs": [],
   "source": [
    "cat_cols = ['Disease', 'Location']"
   ]
  },
  {
   "cell_type": "code",
   "execution_count": 38,
   "metadata": {},
   "outputs": [],
   "source": [
    "full_train_data = merged_data[merged_data['Year'] < 2023]\n",
    "full_test_data = merged_data[merged_data['Year'] == 2023]"
   ]
  },
  {
   "cell_type": "code",
   "execution_count": 39,
   "metadata": {},
   "outputs": [],
   "source": [
    "# full_train_data['Outbreak'] = (full_train_data['Total'] > 0).astype(int)"
   ]
  },
  {
   "cell_type": "markdown",
   "metadata": {},
   "source": [
    "# Target Encode"
   ]
  },
  {
   "cell_type": "code",
   "execution_count": 40,
   "metadata": {},
   "outputs": [],
   "source": [
    "def target_encode_df(train_df, te_columns, target_column='target', test_df=None):\n",
    "    te_df = train_df.copy()\n",
    "\n",
    "    test_te_df = None\n",
    "    if test_df is not None: test_te_df = test_df.copy()\n",
    "    \n",
    "    for col in te_columns:\n",
    "        col_min = train_df.groupby(col)[target_column].min()\n",
    "        col_max = train_df.groupby(col)[target_column].max()\n",
    "        col_mean = train_df.groupby(col)[target_column].mean()\n",
    "        col_median = train_df.groupby(col)[target_column].median()\n",
    "        col_nunique = train_df.groupby(col)[target_column].nunique()\n",
    "        \n",
    "        te_min = train_df[col].map(col_min)\n",
    "        te_max = train_df[col].map(col_max)\n",
    "        te_mean = train_df[col].map(col_mean)\n",
    "        te_median = train_df[col].map(col_median)\n",
    "        te_nunique = train_df[col].map(col_nunique)\n",
    "        # te_ce = pd.Series([ce] * len(df), index=df.index)\n",
    "    \n",
    "        # Concatenate the new columns to the original DataFrame\n",
    "        te_df = pd.concat([te_df,\n",
    "                        te_min.rename(f'{col}_te_min'),\n",
    "                        te_max.rename(f'{col}_te_max'),\n",
    "                        te_mean.rename(f'{col}_te_mean'),\n",
    "                        te_median.rename(f'{col}_te_median'),\n",
    "                        te_nunique.rename(f'{col}_te_nunique')], axis=1)\n",
    "    \n",
    "        if test_df is not None:\n",
    "            test_te_min = test_df[col].map(col_min)\n",
    "            test_te_max = test_df[col].map(col_max)\n",
    "            test_te_mean = test_df[col].map(col_mean)\n",
    "            test_te_median = test_df[col].map(col_median)\n",
    "            test_te_nunique = test_df[col].map(col_nunique)\n",
    "        \n",
    "            test_te_df = pd.concat([test_te_df,\n",
    "                            test_te_min.rename(f'{col}_te_min'),\n",
    "                            test_te_max.rename(f'{col}_te_max'),\n",
    "                            test_te_mean.rename(f'{col}_te_mean'),\n",
    "                            test_te_median.rename(f'{col}_te_median'),\n",
    "                            test_te_nunique.rename(f'{col}_te_nunique')], axis=1)\n",
    "\n",
    "    return te_df, test_te_df"
   ]
  },
  {
   "cell_type": "code",
   "execution_count": 41,
   "metadata": {},
   "outputs": [],
   "source": [
    "full_train_data, full_test_data = target_encode_df(full_train_data, te_columns=['loc_dis'], target_column='Total', test_df=full_test_data)"
   ]
  },
  {
   "cell_type": "code",
   "execution_count": 42,
   "metadata": {},
   "outputs": [],
   "source": [
    "useful = [\n",
    "    '10v',\n",
    "    'es',\n",
    "    'slhf',\n",
    "    'sshf',\n",
    "    'tp',\n",
    "    \n",
    "    # potentially useful:\n",
    "    'evaow',\n",
    "    'evatc',\n",
    "    \n",
    "    'ssr',\n",
    "    'str',\n",
    "    'sro',\n",
    "]"
   ]
  },
  {
   "cell_type": "code",
   "execution_count": 43,
   "metadata": {},
   "outputs": [
    {
     "data": {
      "image/png": "[encoded data removed]",
      "text/plain": [
       "<Figure size 640x480 with 1 Axes>"
      ]
     },
     "metadata": {},
     "output_type": "display_data"
    }
   ],
   "source": [
    "for year in [2019, 2020, 2021,2022]:\n",
    "    sns.kdeplot(train_df[train_df['Year'] == year]['log_Total'], label=year)\n",
    "    plt.legend()"
   ]
  },
  {
   "cell_type": "code",
   "execution_count": 44,
   "metadata": {},
   "outputs": [
    {
     "data": {
      "text/plain": [
       "10.775960539979232"
      ]
     },
     "execution_count": 44,
     "metadata": {},
     "output_type": "execute_result"
    }
   ],
   "source": [
    "yr = train_df[train_df['Year'] == 2022]\n",
    "mean_absolute_error(yr['Total'], np.zeros(len(yr)))"
   ]
  },
  {
   "cell_type": "markdown",
   "metadata": {},
   "source": [
    "# Regressor"
   ]
  },
  {
   "cell_type": "code",
   "execution_count": 45,
   "metadata": {},
   "outputs": [],
   "source": [
    "# # reg_resampled_zero_df = zero_df.sample(n=len(nonzero_df) // 2)\n",
    "# reg_resampled_zero_df = zero_df.copy()\n",
    "# # extra_zero_df = zero_df.sample(n=2000)\n",
    "# reg_resampled_data = pd.concat([reg_resampled_zero_df, nonzero_df])"
   ]
  },
  {
   "cell_type": "code",
   "execution_count": 46,
   "metadata": {},
   "outputs": [],
   "source": [
    "reg_df = full_train_data.copy().reset_index(drop=True)\n",
    "\n",
    "# reg_zero = reg_df[reg_df['Outbreak'] == 0]\n",
    "# reg_nonzero = reg_df[reg_df['Outbreak'] == 1]\n",
    "# reg_zero, _ = train_test_split(reg_zero, train_size=500)\n",
    "\n",
    "# reg_df = pd.concat([reg_zero, reg_nonzero])\n",
    "# reg_df = reg_df[reg_df['Outbreak'] == 1]\n",
    "# reg_df = reg_df.drop(columns=extra_data_cols)\n",
    "# reg_df['log_prev_year_mean'] = np.log(reg_df['prev_year_mean'] + 1)\n",
    "# reg_df.drop(columns=['prev_year_mean'], inplace=True)"
   ]
  },
  {
   "cell_type": "code",
   "execution_count": 47,
   "metadata": {},
   "outputs": [],
   "source": [
    "# reg_df = reg_df[reg_df['Total'] < 50]"
   ]
  },
  {
   "cell_type": "code",
   "execution_count": 48,
   "metadata": {},
   "outputs": [],
   "source": [
    "# reg_df['Outbreak'] = binary_model.predict(reg_df.drop(columns=['ID', 'Category_Health_Facility_UUID', 'Total', 'Outbreak']))\n",
    "cat_cols = ['Disease', 'Location', 'loc_dis']\n",
    "# reg_df = reg_df.sort_values(by='Location')\n",
    "reg_x = reg_df.drop(columns=['ID', 'Category_Health_Facility_UUID', 'Total', 'log_Total'])\n",
    "reg_y = reg_df['Total']\n",
    "# reg_x_train = reg_x[reg_x['Year'] < 2022]\n",
    "# reg_x_valid = reg_x[reg_x['Year'] == 2022]\n",
    "# reg_y_train = reg_y[reg_x_train.index]\n",
    "# reg_y_valid = reg_y[reg_x_valid.index]\n",
    "reg_x_train, reg_x_valid, reg_y_train, reg_y_valid = train_test_split(reg_x, reg_y, test_size=0.2, stratify=reg_x['Year'], random_state=117)\n",
    "# reg_x_train, reg_x_valid, reg_y_train, reg_y_valid = train_test_split(reg_x, reg_y, test_size=0.2, random_state=117, shuffle=True)"
   ]
  },
  {
   "cell_type": "code",
   "execution_count": 49,
   "metadata": {},
   "outputs": [],
   "source": [
    "# reg_train_data = binary_train[binary_train['Total'] != 0].drop(columns=['Outbreak'])\n",
    "# reg_x_train = reg_train_data.drop(columns=['Total'])\n",
    "# reg_y_train = reg_train_data['Total']\n",
    "\n",
    "# reg_valid_data = binary_valid[binary_valid['Total'] != 0].drop(columns=['Outbreak'])\n",
    "# reg_x_valid = reg_valid_data.drop(columns=['Total'])\n",
    "# reg_y_valid = reg_valid_data['Total']"
   ]
  },
  {
   "cell_type": "code",
   "execution_count": 50,
   "metadata": {},
   "outputs": [],
   "source": [
    "reg_params = {\n",
    "    'iterations': 12000,\n",
    "    'early_stopping_rounds': 1000,\n",
    "    'learning_rate': 0.075,\n",
    "    'loss_function': 'MAE',\n",
    "    # 'loss_function': 'Logloss',\n",
    "    # 'eval_metric': 'MAE',a\n",
    "    'depth': 3,\n",
    "    'l2_leaf_reg': 4,\n",
    "    'bagging_temperature': 2,\n",
    "    'random_strength': 1,\n",
    "    'border_count': 63,\n",
    "    # 'od_type': 'IncToDec',\n",
    "    'verbose': 100,\n",
    "    # 'subsample': 1.0,\n",
    "    # 'random_seed': 42,\n",
    "    'task_type': 'CPU',\n",
    "}"
   ]
  },
  {
   "cell_type": "code",
   "execution_count": 51,
   "metadata": {},
   "outputs": [],
   "source": [
    "reg_train_pool = Pool(reg_x_train, reg_y_train, cat_features=cat_cols)\n",
    "reg_valid_pool = Pool(reg_x_valid, reg_y_valid, cat_features=cat_cols)"
   ]
  },
  {
   "cell_type": "code",
   "execution_count": 52,
   "metadata": {},
   "outputs": [
    {
     "name": "stdout",
     "output_type": "stream",
     "text": [
      "0:\tlearn: 12.9545582\ttest: 11.2459948\tbest: 11.2459948 (0)\ttotal: 61.1ms\tremaining: 12m 12s\n",
      "100:\tlearn: 7.3472168\ttest: 6.4759472\tbest: 6.4750081 (95)\ttotal: 708ms\tremaining: 1m 23s\n",
      "200:\tlearn: 7.1326264\ttest: 6.3847077\tbest: 6.3847077 (200)\ttotal: 1.35s\tremaining: 1m 19s\n",
      "300:\tlearn: 7.0146974\ttest: 6.3299553\tbest: 6.3299553 (300)\ttotal: 1.89s\tremaining: 1m 13s\n",
      "400:\tlearn: 6.9700255\ttest: 6.3116192\tbest: 6.3105462 (378)\ttotal: 2.22s\tremaining: 1m 4s\n",
      "500:\tlearn: 6.9571009\ttest: 6.3072195\tbest: 6.3055876 (467)\ttotal: 2.59s\tremaining: 59.4s\n",
      "600:\tlearn: 6.9103893\ttest: 6.3006498\tbest: 6.2999114 (587)\ttotal: 2.88s\tremaining: 54.6s\n",
      "700:\tlearn: 6.8904936\ttest: 6.3002636\tbest: 6.2988821 (637)\ttotal: 3.16s\tremaining: 50.9s\n",
      "800:\tlearn: 6.8189720\ttest: 6.2955131\tbest: 6.2940151 (796)\ttotal: 3.35s\tremaining: 46.9s\n",
      "900:\tlearn: 6.7459131\ttest: 6.2770682\tbest: 6.2760144 (897)\ttotal: 3.7s\tremaining: 45.6s\n",
      "1000:\tlearn: 6.6919176\ttest: 6.2627897\tbest: 6.2627816 (999)\ttotal: 4.02s\tremaining: 44.1s\n",
      "1100:\tlearn: 6.6534923\ttest: 6.2681767\tbest: 6.2601488 (1020)\ttotal: 4.38s\tremaining: 43.3s\n",
      "1200:\tlearn: 6.6064051\ttest: 6.2462765\tbest: 6.2457927 (1193)\ttotal: 4.74s\tremaining: 42.6s\n",
      "1300:\tlearn: 6.5680918\ttest: 6.2382752\tbest: 6.2327063 (1282)\ttotal: 4.95s\tremaining: 40.7s\n",
      "1400:\tlearn: 6.5289567\ttest: 6.2374593\tbest: 6.2305404 (1337)\ttotal: 5.39s\tremaining: 40.8s\n",
      "1500:\tlearn: 6.4879446\ttest: 6.2441775\tbest: 6.2305404 (1337)\ttotal: 5.9s\tremaining: 41.3s\n",
      "1600:\tlearn: 6.4685984\ttest: 6.2460342\tbest: 6.2305404 (1337)\ttotal: 6.08s\tremaining: 39.5s\n",
      "1700:\tlearn: 6.4354283\ttest: 6.2443156\tbest: 6.2305404 (1337)\ttotal: 6.4s\tremaining: 38.7s\n",
      "1800:\tlearn: 6.4181400\ttest: 6.2381550\tbest: 6.2305404 (1337)\ttotal: 6.75s\tremaining: 38.2s\n",
      "1900:\tlearn: 6.3955695\ttest: 6.2327991\tbest: 6.2305404 (1337)\ttotal: 7.17s\tremaining: 38.1s\n",
      "2000:\tlearn: 6.3687193\ttest: 6.2292312\tbest: 6.2292204 (1998)\ttotal: 7.45s\tremaining: 37.2s\n",
      "2100:\tlearn: 6.3557131\ttest: 6.2248589\tbest: 6.2243660 (2092)\ttotal: 7.81s\tremaining: 36.8s\n",
      "2200:\tlearn: 6.3169519\ttest: 6.2155646\tbest: 6.2155645 (2197)\ttotal: 8.28s\tremaining: 36.9s\n",
      "2300:\tlearn: 6.2953063\ttest: 6.2160080\tbest: 6.2143535 (2232)\ttotal: 8.51s\tremaining: 35.9s\n",
      "2400:\tlearn: 6.2605143\ttest: 6.2208716\tbest: 6.2143535 (2232)\ttotal: 9.1s\tremaining: 36.4s\n",
      "2500:\tlearn: 6.2357671\ttest: 6.2157325\tbest: 6.2131328 (2443)\ttotal: 9.59s\tremaining: 36.4s\n",
      "2600:\tlearn: 6.2138906\ttest: 6.2126686\tbest: 6.2108348 (2501)\ttotal: 10.1s\tremaining: 36.6s\n",
      "2700:\tlearn: 6.1857896\ttest: 6.2028472\tbest: 6.2018866 (2698)\ttotal: 10.5s\tremaining: 36.2s\n",
      "2800:\tlearn: 6.1618191\ttest: 6.1936751\tbest: 6.1936751 (2800)\ttotal: 10.7s\tremaining: 35.1s\n",
      "2900:\tlearn: 6.1482094\ttest: 6.1927437\tbest: 6.1915996 (2889)\ttotal: 11s\tremaining: 34.4s\n",
      "3000:\tlearn: 6.1348541\ttest: 6.1882866\tbest: 6.1882866 (3000)\ttotal: 11.4s\tremaining: 34.1s\n",
      "3100:\tlearn: 6.1221816\ttest: 6.1869499\tbest: 6.1869499 (3100)\ttotal: 11.8s\tremaining: 33.9s\n",
      "3200:\tlearn: 6.0944589\ttest: 6.1764950\tbest: 6.1755928 (3186)\ttotal: 12.2s\tremaining: 33.6s\n",
      "3300:\tlearn: 6.0766215\ttest: 6.1660012\tbest: 6.1659737 (3291)\ttotal: 12.5s\tremaining: 32.9s\n",
      "3400:\tlearn: 6.0455182\ttest: 6.1524347\tbest: 6.1524278 (3397)\ttotal: 12.9s\tremaining: 32.7s\n",
      "3500:\tlearn: 6.0241883\ttest: 6.1452490\tbest: 6.1451886 (3496)\ttotal: 13.3s\tremaining: 32.2s\n",
      "3600:\tlearn: 6.0046281\ttest: 6.1415952\tbest: 6.1415737 (3591)\ttotal: 13.6s\tremaining: 31.6s\n",
      "3700:\tlearn: 5.9859540\ttest: 6.1403284\tbest: 6.1395069 (3617)\ttotal: 14.1s\tremaining: 31.5s\n",
      "3800:\tlearn: 5.9578669\ttest: 6.1371552\tbest: 6.1371524 (3799)\ttotal: 14.5s\tremaining: 31.3s\n",
      "3900:\tlearn: 5.9409727\ttest: 6.1269983\tbest: 6.1269983 (3900)\ttotal: 14.7s\tremaining: 30.6s\n",
      "4000:\tlearn: 5.9308984\ttest: 6.1264675\tbest: 6.1231204 (3956)\ttotal: 14.9s\tremaining: 29.9s\n",
      "4100:\tlearn: 5.9078032\ttest: 6.1245195\tbest: 6.1231204 (3956)\ttotal: 15.3s\tremaining: 29.5s\n",
      "4200:\tlearn: 5.8954440\ttest: 6.1232666\tbest: 6.1222397 (4126)\ttotal: 15.8s\tremaining: 29.2s\n",
      "4300:\tlearn: 5.8789451\ttest: 6.1119983\tbest: 6.1119983 (4300)\ttotal: 16.2s\tremaining: 29s\n",
      "4400:\tlearn: 5.8558215\ttest: 6.1060128\tbest: 6.1059322 (4397)\ttotal: 16.4s\tremaining: 28.4s\n",
      "4500:\tlearn: 5.8397317\ttest: 6.1076820\tbest: 6.1045132 (4461)\ttotal: 16.8s\tremaining: 28s\n",
      "4600:\tlearn: 5.8205605\ttest: 6.1005198\tbest: 6.0997964 (4541)\ttotal: 17.2s\tremaining: 27.7s\n",
      "4700:\tlearn: 5.8034225\ttest: 6.0996800\tbest: 6.0988531 (4613)\ttotal: 17.5s\tremaining: 27.2s\n",
      "4800:\tlearn: 5.7919809\ttest: 6.0970515\tbest: 6.0970515 (4800)\ttotal: 17.9s\tremaining: 26.8s\n",
      "4900:\tlearn: 5.7721842\ttest: 6.0987742\tbest: 6.0970511 (4801)\ttotal: 18.2s\tremaining: 26.4s\n",
      "5000:\tlearn: 5.7602618\ttest: 6.0956228\tbest: 6.0945889 (4968)\ttotal: 18.4s\tremaining: 25.8s\n",
      "5100:\tlearn: 5.7411908\ttest: 6.0913415\tbest: 6.0901527 (5063)\ttotal: 18.9s\tremaining: 25.6s\n",
      "5200:\tlearn: 5.7194467\ttest: 6.0911056\tbest: 6.0901112 (5182)\ttotal: 19.5s\tremaining: 25.5s\n",
      "5300:\tlearn: 5.6974052\ttest: 6.0900320\tbest: 6.0900210 (5289)\ttotal: 20s\tremaining: 25.3s\n",
      "5400:\tlearn: 5.6858946\ttest: 6.0881803\tbest: 6.0873946 (5369)\ttotal: 20.2s\tremaining: 24.7s\n",
      "5500:\tlearn: 5.6660224\ttest: 6.0816540\tbest: 6.0804546 (5474)\ttotal: 20.5s\tremaining: 24.2s\n",
      "5600:\tlearn: 5.6518896\ttest: 6.0795681\tbest: 6.0778050 (5570)\ttotal: 20.9s\tremaining: 23.9s\n",
      "5700:\tlearn: 5.6346061\ttest: 6.0750343\tbest: 6.0750343 (5700)\ttotal: 21.3s\tremaining: 23.5s\n",
      "5800:\tlearn: 5.6140581\ttest: 6.0752213\tbest: 6.0744747 (5714)\ttotal: 21.6s\tremaining: 23s\n",
      "5900:\tlearn: 5.5967210\ttest: 6.0707630\tbest: 6.0705907 (5890)\ttotal: 22s\tremaining: 22.7s\n",
      "6000:\tlearn: 5.5820622\ttest: 6.0728653\tbest: 6.0681788 (5991)\ttotal: 22.3s\tremaining: 22.2s\n",
      "6100:\tlearn: 5.5718010\ttest: 6.0689984\tbest: 6.0681788 (5991)\ttotal: 22.4s\tremaining: 21.7s\n",
      "6200:\tlearn: 5.5660944\ttest: 6.0695286\tbest: 6.0681788 (5991)\ttotal: 22.8s\tremaining: 21.3s\n",
      "6300:\tlearn: 5.5557089\ttest: 6.0707087\tbest: 6.0681788 (5991)\ttotal: 23s\tremaining: 20.8s\n",
      "6400:\tlearn: 5.5476881\ttest: 6.0675365\tbest: 6.0669984 (6363)\ttotal: 23.3s\tremaining: 20.4s\n",
      "6500:\tlearn: 5.5317377\ttest: 6.0603342\tbest: 6.0598042 (6481)\ttotal: 23.7s\tremaining: 20.1s\n",
      "6600:\tlearn: 5.5177448\ttest: 6.0539572\tbest: 6.0539572 (6600)\ttotal: 24.1s\tremaining: 19.7s\n",
      "6700:\tlearn: 5.5115836\ttest: 6.0501270\tbest: 6.0501270 (6700)\ttotal: 24.3s\tremaining: 19.2s\n",
      "6800:\tlearn: 5.5044379\ttest: 6.0490074\tbest: 6.0487992 (6783)\ttotal: 24.8s\tremaining: 19s\n",
      "6900:\tlearn: 5.4949557\ttest: 6.0463314\tbest: 6.0455212 (6882)\ttotal: 25.1s\tremaining: 18.5s\n",
      "7000:\tlearn: 5.4853274\ttest: 6.0467809\tbest: 6.0447000 (6952)\ttotal: 25.2s\tremaining: 18s\n",
      "7100:\tlearn: 5.4775253\ttest: 6.0452665\tbest: 6.0434387 (7071)\ttotal: 25.6s\tremaining: 17.6s\n",
      "7200:\tlearn: 5.4673172\ttest: 6.0447987\tbest: 6.0434387 (7071)\ttotal: 26s\tremaining: 17.3s\n",
      "7300:\tlearn: 5.4624156\ttest: 6.0450518\tbest: 6.0433730 (7243)\ttotal: 26.2s\tremaining: 16.8s\n",
      "7400:\tlearn: 5.4557143\ttest: 6.0424742\tbest: 6.0424548 (7398)\ttotal: 26.3s\tremaining: 16.4s\n",
      "7500:\tlearn: 5.4471619\ttest: 6.0426315\tbest: 6.0407103 (7412)\ttotal: 26.6s\tremaining: 15.9s\n",
      "7600:\tlearn: 5.4406166\ttest: 6.0391515\tbest: 6.0388582 (7598)\ttotal: 27s\tremaining: 15.6s\n",
      "7700:\tlearn: 5.4304558\ttest: 6.0371617\tbest: 6.0371617 (7700)\ttotal: 27.5s\tremaining: 15.3s\n",
      "7800:\tlearn: 5.4200245\ttest: 6.0351655\tbest: 6.0350671 (7799)\ttotal: 27.9s\tremaining: 15s\n",
      "7900:\tlearn: 5.4131727\ttest: 6.0340432\tbest: 6.0335522 (7882)\ttotal: 28.3s\tremaining: 14.7s\n",
      "8000:\tlearn: 5.4051117\ttest: 6.0339526\tbest: 6.0335522 (7882)\ttotal: 29s\tremaining: 14.5s\n",
      "8100:\tlearn: 5.3950646\ttest: 6.0341186\tbest: 6.0335522 (7882)\ttotal: 29.8s\tremaining: 14.3s\n",
      "8200:\tlearn: 5.3875833\ttest: 6.0358452\tbest: 6.0332949 (8132)\ttotal: 30.4s\tremaining: 14.1s\n",
      "8300:\tlearn: 5.3787710\ttest: 6.0339545\tbest: 6.0332949 (8132)\ttotal: 30.9s\tremaining: 13.8s\n",
      "8400:\tlearn: 5.3735496\ttest: 6.0326008\tbest: 6.0325181 (8393)\ttotal: 31.4s\tremaining: 13.5s\n",
      "8500:\tlearn: 5.3659392\ttest: 6.0349093\tbest: 6.0323913 (8404)\ttotal: 31.7s\tremaining: 13s\n",
      "8600:\tlearn: 5.3593931\ttest: 6.0353913\tbest: 6.0323913 (8404)\ttotal: 31.9s\tremaining: 12.6s\n",
      "8700:\tlearn: 5.3532946\ttest: 6.0339645\tbest: 6.0323913 (8404)\ttotal: 32.6s\tremaining: 12.4s\n",
      "8800:\tlearn: 5.3497688\ttest: 6.0355771\tbest: 6.0323913 (8404)\ttotal: 33s\tremaining: 12s\n",
      "8900:\tlearn: 5.3453413\ttest: 6.0334203\tbest: 6.0323913 (8404)\ttotal: 33.4s\tremaining: 11.6s\n",
      "9000:\tlearn: 5.3372806\ttest: 6.0333988\tbest: 6.0323913 (8404)\ttotal: 34s\tremaining: 11.3s\n",
      "9100:\tlearn: 5.3325310\ttest: 6.0338487\tbest: 6.0323913 (8404)\ttotal: 34.3s\tremaining: 10.9s\n",
      "9200:\tlearn: 5.3261056\ttest: 6.0325112\tbest: 6.0323913 (8404)\ttotal: 34.9s\tremaining: 10.6s\n",
      "9300:\tlearn: 5.3211280\ttest: 6.0294835\tbest: 6.0293511 (9280)\ttotal: 35.4s\tremaining: 10.3s\n",
      "9400:\tlearn: 5.3169782\ttest: 6.0286852\tbest: 6.0286852 (9400)\ttotal: 35.9s\tremaining: 9.94s\n",
      "9500:\tlearn: 5.3047510\ttest: 6.0260179\tbest: 6.0255474 (9477)\ttotal: 36.1s\tremaining: 9.51s\n",
      "9600:\tlearn: 5.2982054\ttest: 6.0239849\tbest: 6.0225794 (9582)\ttotal: 36.3s\tremaining: 9.08s\n",
      "9700:\tlearn: 5.2926145\ttest: 6.0229588\tbest: 6.0222606 (9646)\ttotal: 36.8s\tremaining: 8.73s\n",
      "9800:\tlearn: 5.2846396\ttest: 6.0227594\tbest: 6.0222060 (9785)\ttotal: 37s\tremaining: 8.31s\n",
      "9900:\tlearn: 5.2784993\ttest: 6.0189634\tbest: 6.0174435 (9853)\ttotal: 37.8s\tremaining: 8.01s\n",
      "10000:\tlearn: 5.2725421\ttest: 6.0174795\tbest: 6.0174435 (9853)\ttotal: 38.4s\tremaining: 7.68s\n",
      "10100:\tlearn: 5.2688484\ttest: 6.0174508\tbest: 6.0173798 (10099)\ttotal: 39s\tremaining: 7.33s\n",
      "10200:\tlearn: 5.2641669\ttest: 6.0217137\tbest: 6.0171931 (10156)\ttotal: 39.7s\tremaining: 7s\n",
      "10300:\tlearn: 5.2592248\ttest: 6.0234093\tbest: 6.0171931 (10156)\ttotal: 40.5s\tremaining: 6.68s\n",
      "10400:\tlearn: 5.2533866\ttest: 6.0202763\tbest: 6.0171931 (10156)\ttotal: 40.8s\tremaining: 6.27s\n",
      "10500:\tlearn: 5.2442772\ttest: 6.0193604\tbest: 6.0171931 (10156)\ttotal: 41.3s\tremaining: 5.89s\n",
      "10600:\tlearn: 5.2321167\ttest: 6.0185024\tbest: 6.0171931 (10156)\ttotal: 41.9s\tremaining: 5.53s\n",
      "10700:\tlearn: 5.2257584\ttest: 6.0223953\tbest: 6.0171931 (10156)\ttotal: 42.5s\tremaining: 5.16s\n",
      "10800:\tlearn: 5.2146442\ttest: 6.0228780\tbest: 6.0171931 (10156)\ttotal: 42.8s\tremaining: 4.75s\n",
      "10900:\tlearn: 5.1999219\ttest: 6.0237742\tbest: 6.0171931 (10156)\ttotal: 43.4s\tremaining: 4.38s\n",
      "11000:\tlearn: 5.1845865\ttest: 6.0102096\tbest: 6.0097195 (10935)\ttotal: 44s\tremaining: 4s\n",
      "11100:\tlearn: 5.1786232\ttest: 6.0106717\tbest: 6.0096935 (11076)\ttotal: 44.5s\tremaining: 3.6s\n",
      "11200:\tlearn: 5.1737661\ttest: 6.0107575\tbest: 6.0096935 (11076)\ttotal: 45.1s\tremaining: 3.22s\n",
      "11300:\tlearn: 5.1700242\ttest: 6.0092897\tbest: 6.0089768 (11295)\ttotal: 45.8s\tremaining: 2.83s\n",
      "11400:\tlearn: 5.1610552\ttest: 6.0062504\tbest: 6.0062504 (11400)\ttotal: 46.2s\tremaining: 2.42s\n",
      "11500:\tlearn: 5.1538287\ttest: 6.0064727\tbest: 6.0052704 (11454)\ttotal: 46.7s\tremaining: 2.03s\n",
      "11600:\tlearn: 5.1473659\ttest: 5.9982332\tbest: 5.9973364 (11593)\ttotal: 47.1s\tremaining: 1.62s\n",
      "11700:\tlearn: 5.1403580\ttest: 5.9971157\tbest: 5.9971154 (11699)\ttotal: 47.6s\tremaining: 1.22s\n",
      "11800:\tlearn: 5.1349040\ttest: 5.9946778\tbest: 5.9942040 (11784)\ttotal: 48.1s\tremaining: 811ms\n",
      "11900:\tlearn: 5.1278821\ttest: 5.9953799\tbest: 5.9942040 (11784)\ttotal: 48.6s\tremaining: 404ms\n",
      "11999:\tlearn: 5.1238323\ttest: 5.9934729\tbest: 5.9934065 (11990)\ttotal: 49.2s\tremaining: 0us\n",
      "\n",
      "bestTest = 5.993406481\n",
      "bestIteration = 11990\n",
      "\n",
      "Shrink model to first 11991 iterations.\n"
     ]
    },
    {
     "data": {
      "text/plain": [
       "<catboost.core.CatBoostRegressor at 0x7ac511399c10>"
      ]
     },
     "execution_count": 52,
     "metadata": {},
     "output_type": "execute_result"
    }
   ],
   "source": [
    "reg_model = CatBoostRegressor(**reg_params, cat_features=cat_cols)\n",
    "reg_model.fit(reg_train_pool, eval_set=reg_valid_pool)"
   ]
  },
  {
   "cell_type": "code",
   "execution_count": 53,
   "metadata": {},
   "outputs": [
    {
     "data": {
      "text/plain": [
       "5.967277435540217"
      ]
     },
     "execution_count": 53,
     "metadata": {},
     "output_type": "execute_result"
    }
   ],
   "source": [
    "reg_preds = reg_model.predict(reg_x_valid)\n",
    "reg_preds[reg_preds < 0] = 0\n",
    "mean_absolute_error(reg_y_valid, reg_preds)"
   ]
  },
  {
   "cell_type": "code",
   "execution_count": 54,
   "metadata": {},
   "outputs": [
    {
     "ename": "KeyError",
     "evalue": "'log_Total'",
     "output_type": "error",
     "traceback": [
      "\u001b[0;31m---------------------------------------------------------------------------\u001b[0m",
      "\u001b[0;31mKeyError\u001b[0m                                  Traceback (most recent call last)",
      "File \u001b[0;32m~/anaconda3/envs/my_env/lib/python3.12/site-packages/pandas/core/indexes/base.py:3805\u001b[0m, in \u001b[0;36mIndex.get_loc\u001b[0;34m(self, key)\u001b[0m\n\u001b[1;32m   3804\u001b[0m \u001b[38;5;28;01mtry\u001b[39;00m:\n\u001b[0;32m-> 3805\u001b[0m     \u001b[38;5;28;01mreturn\u001b[39;00m \u001b[38;5;28;43mself\u001b[39;49m\u001b[38;5;241;43m.\u001b[39;49m\u001b[43m_engine\u001b[49m\u001b[38;5;241;43m.\u001b[39;49m\u001b[43mget_loc\u001b[49m\u001b[43m(\u001b[49m\u001b[43mcasted_key\u001b[49m\u001b[43m)\u001b[49m\n\u001b[1;32m   3806\u001b[0m \u001b[38;5;28;01mexcept\u001b[39;00m \u001b[38;5;167;01mKeyError\u001b[39;00m \u001b[38;5;28;01mas\u001b[39;00m err:\n",
      "File \u001b[0;32mindex.pyx:167\u001b[0m, in \u001b[0;36mpandas._libs.index.IndexEngine.get_loc\u001b[0;34m()\u001b[0m\n",
      "File \u001b[0;32mindex.pyx:196\u001b[0m, in \u001b[0;36mpandas._libs.index.IndexEngine.get_loc\u001b[0;34m()\u001b[0m\n",
      "File \u001b[0;32mpandas/_libs/hashtable_class_helper.pxi:7081\u001b[0m, in \u001b[0;36mpandas._libs.hashtable.PyObjectHashTable.get_item\u001b[0;34m()\u001b[0m\n",
      "File \u001b[0;32mpandas/_libs/hashtable_class_helper.pxi:7089\u001b[0m, in \u001b[0;36mpandas._libs.hashtable.PyObjectHashTable.get_item\u001b[0;34m()\u001b[0m\n",
      "\u001b[0;31mKeyError\u001b[0m: 'log_Total'",
      "\nThe above exception was the direct cause of the following exception:\n",
      "\u001b[0;31mKeyError\u001b[0m                                  Traceback (most recent call last)",
      "Cell \u001b[0;32mIn[54], line 3\u001b[0m\n\u001b[1;32m      1\u001b[0m sns\u001b[38;5;241m.\u001b[39mkdeplot(reg_preds, label\u001b[38;5;241m=\u001b[39m\u001b[38;5;124m'\u001b[39m\u001b[38;5;124mPreds\u001b[39m\u001b[38;5;124m'\u001b[39m)\n\u001b[1;32m      2\u001b[0m valid_df \u001b[38;5;241m=\u001b[39m pd\u001b[38;5;241m.\u001b[39mconcat([reg_x_valid, reg_y_valid], axis\u001b[38;5;241m=\u001b[39m\u001b[38;5;241m1\u001b[39m)\n\u001b[0;32m----> 3\u001b[0m sns\u001b[38;5;241m.\u001b[39mkdeplot(\u001b[43mvalid_df\u001b[49m\u001b[43m[\u001b[49m\u001b[38;5;124;43m'\u001b[39;49m\u001b[38;5;124;43mlog_Total\u001b[39;49m\u001b[38;5;124;43m'\u001b[39;49m\u001b[43m]\u001b[49m, label\u001b[38;5;241m=\u001b[39m\u001b[38;5;124m'\u001b[39m\u001b[38;5;124mValid Data\u001b[39m\u001b[38;5;124m'\u001b[39m)\n\u001b[1;32m      4\u001b[0m \u001b[38;5;66;03m# sns.kdeplot(reg_resampled_data['log_Total'], label='All data')\u001b[39;00m\n\u001b[1;32m      5\u001b[0m \u001b[38;5;66;03m# sns.kdeplot(train_df[train_df['Year'] == 2022]['log_Total'], label=2022)\u001b[39;00m\n\u001b[1;32m      6\u001b[0m plt\u001b[38;5;241m.\u001b[39mlegend()\n",
      "File \u001b[0;32m~/anaconda3/envs/my_env/lib/python3.12/site-packages/pandas/core/frame.py:4102\u001b[0m, in \u001b[0;36mDataFrame.__getitem__\u001b[0;34m(self, key)\u001b[0m\n\u001b[1;32m   4100\u001b[0m \u001b[38;5;28;01mif\u001b[39;00m \u001b[38;5;28mself\u001b[39m\u001b[38;5;241m.\u001b[39mcolumns\u001b[38;5;241m.\u001b[39mnlevels \u001b[38;5;241m>\u001b[39m \u001b[38;5;241m1\u001b[39m:\n\u001b[1;32m   4101\u001b[0m     \u001b[38;5;28;01mreturn\u001b[39;00m \u001b[38;5;28mself\u001b[39m\u001b[38;5;241m.\u001b[39m_getitem_multilevel(key)\n\u001b[0;32m-> 4102\u001b[0m indexer \u001b[38;5;241m=\u001b[39m \u001b[38;5;28;43mself\u001b[39;49m\u001b[38;5;241;43m.\u001b[39;49m\u001b[43mcolumns\u001b[49m\u001b[38;5;241;43m.\u001b[39;49m\u001b[43mget_loc\u001b[49m\u001b[43m(\u001b[49m\u001b[43mkey\u001b[49m\u001b[43m)\u001b[49m\n\u001b[1;32m   4103\u001b[0m \u001b[38;5;28;01mif\u001b[39;00m is_integer(indexer):\n\u001b[1;32m   4104\u001b[0m     indexer \u001b[38;5;241m=\u001b[39m [indexer]\n",
      "File \u001b[0;32m~/anaconda3/envs/my_env/lib/python3.12/site-packages/pandas/core/indexes/base.py:3812\u001b[0m, in \u001b[0;36mIndex.get_loc\u001b[0;34m(self, key)\u001b[0m\n\u001b[1;32m   3807\u001b[0m     \u001b[38;5;28;01mif\u001b[39;00m \u001b[38;5;28misinstance\u001b[39m(casted_key, \u001b[38;5;28mslice\u001b[39m) \u001b[38;5;129;01mor\u001b[39;00m (\n\u001b[1;32m   3808\u001b[0m         \u001b[38;5;28misinstance\u001b[39m(casted_key, abc\u001b[38;5;241m.\u001b[39mIterable)\n\u001b[1;32m   3809\u001b[0m         \u001b[38;5;129;01mand\u001b[39;00m \u001b[38;5;28many\u001b[39m(\u001b[38;5;28misinstance\u001b[39m(x, \u001b[38;5;28mslice\u001b[39m) \u001b[38;5;28;01mfor\u001b[39;00m x \u001b[38;5;129;01min\u001b[39;00m casted_key)\n\u001b[1;32m   3810\u001b[0m     ):\n\u001b[1;32m   3811\u001b[0m         \u001b[38;5;28;01mraise\u001b[39;00m InvalidIndexError(key)\n\u001b[0;32m-> 3812\u001b[0m     \u001b[38;5;28;01mraise\u001b[39;00m \u001b[38;5;167;01mKeyError\u001b[39;00m(key) \u001b[38;5;28;01mfrom\u001b[39;00m \u001b[38;5;21;01merr\u001b[39;00m\n\u001b[1;32m   3813\u001b[0m \u001b[38;5;28;01mexcept\u001b[39;00m \u001b[38;5;167;01mTypeError\u001b[39;00m:\n\u001b[1;32m   3814\u001b[0m     \u001b[38;5;66;03m# If we have a listlike key, _check_indexing_error will raise\u001b[39;00m\n\u001b[1;32m   3815\u001b[0m     \u001b[38;5;66;03m#  InvalidIndexError. Otherwise we fall through and re-raise\u001b[39;00m\n\u001b[1;32m   3816\u001b[0m     \u001b[38;5;66;03m#  the TypeError.\u001b[39;00m\n\u001b[1;32m   3817\u001b[0m     \u001b[38;5;28mself\u001b[39m\u001b[38;5;241m.\u001b[39m_check_indexing_error(key)\n",
      "\u001b[0;31mKeyError\u001b[0m: 'log_Total'"
     ]
    },
    {
     "data": {
      "image/png": "[encoded data removed]",
      "text/plain": [
       "<Figure size 640x480 with 1 Axes>"
      ]
     },
     "metadata": {},
     "output_type": "display_data"
    }
   ],
   "source": [
    "sns.kdeplot(reg_preds, label='Preds')\n",
    "valid_df = pd.concat([reg_x_valid, reg_y_valid], axis=1)\n",
    "sns.kdeplot(valid_df['log_Total'], label='Valid Data')\n",
    "# sns.kdeplot(reg_resampled_data['log_Total'], label='All data')\n",
    "# sns.kdeplot(train_df[train_df['Year'] == 2022]['log_Total'], label=2022)\n",
    "plt.legend()"
   ]
  },
  {
   "cell_type": "code",
   "execution_count": null,
   "metadata": {},
   "outputs": [],
   "source": [
    "# sns.kdeplot(np.log(reg_preds + 1), label='Preds')\n",
    "# valid_df = pd.concat([reg_x_valid, reg_y_valid], axis=1)\n",
    "# sns.kdeplot(np.log(valid_df['log_Total'] + 1), label='Valid Data')\n",
    "# # sns.kdeplot(reg_resampled_data['log_Total'], label='All data')\n",
    "# # sns.kdeplot(train_df[train_df['Year'] == 2022]['log_Total'], label=2022)\n",
    "# plt.legend()"
   ]
  },
  {
   "cell_type": "code",
   "execution_count": null,
   "metadata": {},
   "outputs": [],
   "source": [
    "valid_total = reg_df.iloc[reg_x_valid.index]['Total']"
   ]
  },
  {
   "cell_type": "code",
   "execution_count": null,
   "metadata": {},
   "outputs": [],
   "source": [
    "mean_absolute_error(valid_total, np.exp(reg_preds) - 1)"
   ]
  },
  {
   "cell_type": "code",
   "execution_count": null,
   "metadata": {},
   "outputs": [],
   "source": [
    "valid_year = reg_x_valid[reg_x_valid['Year'] == 2022]\n",
    "y_valid_year = reg_y_valid[valid_year.index]\n",
    "year_reg_preds = reg_model.predict(valid_year)\n",
    "year_reg_preds[year_reg_preds < 0] = 0\n",
    "mean_absolute_error(y_valid_year, year_reg_preds)"
   ]
  },
  {
   "cell_type": "code",
   "execution_count": null,
   "metadata": {},
   "outputs": [],
   "source": [
    "sns.kdeplot(year_reg_preds, label='2022 Preds')\n",
    "sns.kdeplot(valid_df[valid_df['Year'] == 2022]['log_Total'], label='2022 labels')\n",
    "plt.legend()"
   ]
  },
  {
   "cell_type": "code",
   "execution_count": null,
   "metadata": {},
   "outputs": [],
   "source": [
    "np.exp(reg_preds.max()), np.exp(reg_y_valid.max())\n",
    "# reg_preds.max(), reg_y_valid.max()"
   ]
  },
  {
   "cell_type": "code",
   "execution_count": null,
   "metadata": {},
   "outputs": [],
   "source": [
    "errors = np.abs(reg_y_valid - reg_preds)\n",
    "\n",
    "# Combine predictions, true values, and errors into a DataFrame\n",
    "results = valid_df.copy()\n",
    "results['Prediction'] = reg_preds\n",
    "results['Absolute Error'] = errors\n",
    "\n",
    "# Sort by largest errors\n",
    "top_losses = results.sort_values(by='Absolute Error', ascending=False)"
   ]
  },
  {
   "cell_type": "code",
   "execution_count": null,
   "metadata": {
    "editable": true,
    "slideshow": {
     "slide_type": ""
    },
    "tags": []
   },
   "outputs": [],
   "source": [
    "importances = reg_model.get_feature_importance()\n",
    "# feature_names = [f\"Feature {i}\" for i in range(X.shape[1])]\n",
    "feature_names = reg_x_train.columns.tolist()\n",
    "\n",
    "# Sort features by importance\n",
    "sorted_idx = np.argsort(importances)[::-1]\n",
    "sorted_importances = importances[sorted_idx]\n",
    "sorted_features = [feature_names[i] for i in sorted_idx]\n",
    "\n",
    "# Plot\n",
    "plt.figure(figsize=(10, 20))\n",
    "plt.barh(sorted_features, sorted_importances, color='skyblue')\n",
    "plt.xlabel('Importance')\n",
    "plt.ylabel('Feature')\n",
    "plt.title('Feature Importances')\n",
    "plt.gca().invert_yaxis()  # To have the highest importance at the top\n",
    "plt.show()"
   ]
  },
  {
   "cell_type": "code",
   "execution_count": null,
   "metadata": {},
   "outputs": [],
   "source": [
    "# df_22 = train_df[train_df['Year'] == 2022]\n",
    "# df_22['locdis'] = train_df['Location'] + '_' + train_df['Disease']\n",
    "# df_23 = test_df.copy()\n",
    "# df_23['locdis'] = test_df['Location'] + '_' + test_df['Disease']"
   ]
  },
  {
   "cell_type": "code",
   "execution_count": null,
   "metadata": {},
   "outputs": [],
   "source": [
    "# df_22['locdis'].nunique(), df_23['locdis'].nunique()"
   ]
  },
  {
   "cell_type": "code",
   "execution_count": null,
   "metadata": {},
   "outputs": [],
   "source": [
    "# len(np.intersect1d(df_22['locdis'].unique(), df_23['locdis'].unique()))"
   ]
  },
  {
   "cell_type": "code",
   "execution_count": null,
   "metadata": {},
   "outputs": [],
   "source": [
    "# np.setdiff1d(df_23['locdis'].unique(), df_22['locdis'].unique())"
   ]
  },
  {
   "cell_type": "markdown",
   "metadata": {},
   "source": [
    "# Inference"
   ]
  },
  {
   "cell_type": "code",
   "execution_count": null,
   "metadata": {
    "editable": true,
    "slideshow": {
     "slide_type": ""
    },
    "tags": []
   },
   "outputs": [],
   "source": [
    "final_test_df = full_test_data.copy()\n",
    "# final_test_df[final_test_df['Disease'] == 'Cholera']['log_prev_year_mean'] = 0"
   ]
  },
  {
   "cell_type": "code",
   "execution_count": null,
   "metadata": {},
   "outputs": [],
   "source": [
    "final_test_df = final_test_df.set_index('ID').reindex(test_df['ID']).reset_index()"
   ]
  },
  {
   "cell_type": "code",
   "execution_count": null,
   "metadata": {
    "editable": true,
    "slideshow": {
     "slide_type": ""
    },
    "tags": []
   },
   "outputs": [],
   "source": [
    "# # final_test_preds = np.zeros(len(final_test_df))\n",
    "# outbreak_test_preds = binary_model.predict(final_test_df.drop(columns=['ID', 'Category_Health_Facility_UUID', 'Total']))\n",
    "# final_test_df['Outbreak'] = outbreak_test_preds\n",
    "# # final_test_preds[outbreak_test_preds == 0] = 0"
   ]
  },
  {
   "cell_type": "code",
   "execution_count": null,
   "metadata": {},
   "outputs": [],
   "source": [
    "# reg_test_df = final_test_df.iloc[outbreak_test_preds == 1]"
   ]
  },
  {
   "cell_type": "code",
   "execution_count": null,
   "metadata": {},
   "outputs": [],
   "source": [
    "reg_test_preds = reg_model.predict(final_test_df.drop(columns=['ID', 'Category_Health_Facility_UUID', 'Total', 'log_Total']))\n",
    "reg_test_preds"
   ]
  },
  {
   "cell_type": "code",
   "execution_count": null,
   "metadata": {},
   "outputs": [],
   "source": [
    "# processed_test_data = final_test_df.drop(columns=['ID', 'Total', 'log_Total', 'Category_Health_Facility_UUID'])\n",
    "\n",
    "# reg_test_preds = []\n",
    "\n",
    "# for model in reg_models:\n",
    "#     reg_test_preds.append(model.predict(processed_test_data))\n",
    "\n",
    "# reg_test_preds = np.array(reg_test_preds)"
   ]
  },
  {
   "cell_type": "code",
   "execution_count": null,
   "metadata": {},
   "outputs": [],
   "source": [
    "reg_test_preds[reg_test_preds < 0] = 0\n",
    "# final_test_preds[outbreak_test_preds == 1] = reg_test_preds"
   ]
  },
  {
   "cell_type": "code",
   "execution_count": null,
   "metadata": {},
   "outputs": [],
   "source": [
    "ensemble_preds = reg_test_preds.mean(axis=0)\n",
    "# ensemble_preds = np.exp(reg_test_preds) - 1\n",
    "ensemble_preds"
   ]
  },
  {
   "cell_type": "code",
   "execution_count": null,
   "metadata": {},
   "outputs": [],
   "source": [
    "(ensemble_preds < 0).sum()"
   ]
  },
  {
   "cell_type": "code",
   "execution_count": null,
   "metadata": {},
   "outputs": [],
   "source": [
    "ensemble_preds[ensemble_preds < 0] = 0"
   ]
  },
  {
   "cell_type": "code",
   "execution_count": null,
   "metadata": {},
   "outputs": [],
   "source": [
    "(np.round(ensemble_preds) == 0).sum()\n",
    "# len(ensemble_preds[ensemble_preds > 1])"
   ]
  },
  {
   "cell_type": "code",
   "execution_count": null,
   "metadata": {},
   "outputs": [],
   "source": [
    "(np.round(ensemble_preds) == 0).sum()/len(test_df)"
   ]
  },
  {
   "cell_type": "code",
   "execution_count": null,
   "metadata": {
    "editable": true,
    "slideshow": {
     "slide_type": ""
    },
    "tags": []
   },
   "outputs": [],
   "source": [
    "submission_df = final_test_df[['ID']].copy()\n",
    "submission_df['Total'] = np.round(ensemble_preds)\n",
    "submission_df"
   ]
  },
  {
   "cell_type": "code",
   "execution_count": null,
   "metadata": {
    "scrolled": true
   },
   "outputs": [],
   "source": [
    "sns.kdeplot(np.log(submission_df['Total'] + 1))"
   ]
  },
  {
   "cell_type": "code",
   "execution_count": 224,
   "metadata": {
    "editable": true,
    "slideshow": {
     "slide_type": ""
    },
    "tags": []
   },
   "outputs": [],
   "source": [
    "submission_df.to_csv('submission.csv', index=False)"
   ]
  },
  {
   "cell_type": "code",
   "execution_count": null,
   "metadata": {},
   "outputs": [],
   "source": []
  }
 ],
 "metadata": {
  "colab": {
   "provenance": []
  },
  "kernelspec": {
   "display_name": "Python 3 (ipykernel)",
   "language": "python",
   "name": "python3"
  },
  "language_info": {
   "codemirror_mode": {
    "name": "ipython",
    "version": 3
   },
   "file_extension": ".py",
   "mimetype": "text/x-python",
   "name": "python",
   "nbconvert_exporter": "python",
   "pygments_lexer": "ipython3",
   "version": "3.12.4"
  }
 },
 "nbformat": 4,
 "nbformat_minor": 4
}
